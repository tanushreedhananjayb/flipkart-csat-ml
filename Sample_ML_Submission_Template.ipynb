{
 "cells": [
  {
   "cell_type": "markdown",
   "metadata": {
    "id": "vncDsAP0Gaoa"
   },
   "source": [
    "# **Project Name**    -\n",
    "\n"
   ]
  },
  {
   "cell_type": "markdown",
   "metadata": {
    "id": "beRrZCGUAJYm"
   },
   "source": [
    "Project Type   - EDA/Regression/Classification/Unsupervised\n",
    "Contribution    - Individual/Team\n",
    "Name - Tanushree Dhananjay Bhamare"
   ]
  },
  {
   "cell_type": "markdown",
   "metadata": {
    "id": "FJNUwmbgGyua"
   },
   "source": [
    "# **Project Summary -**"
   ]
  },
  {
   "cell_type": "markdown",
   "metadata": {
    "id": "F6v_1wHtG2nS"
   },
   "source": [
    "📘 Project Summary – Flipkart Customer Support CSAT Prediction\n",
    "This project is based on building a machine learning solution that can predict customer satisfaction (CSAT) after a customer interacts with Flipkart's support team. Usually, companies wait for customers to respond to feedback surveys, but what if we could predict satisfaction levels just by analyzing the data from the interaction itself? That’s exactly what I’ve tried to achieve in this capstone project.\n",
    "\n",
    "The dataset provided had around 86,000 customer support records with 20 different columns, ranging from channel type and issue category to product type, agent details, timestamps, and survey scores. I transformed the CSAT score into a binary classification: if a customer rated 4 or 5, it’s considered satisfied (1), otherwise not satisfied (0). This turned the problem into a straightforward classification task.\n",
    "\n",
    "🔍 Understanding and Cleaning the Data\n",
    "I started by thoroughly exploring the dataset. Some columns had a lot of missing values — for example, handling time and customer remarks. Others like product price and issue timestamps were usable but needed some preprocessing. After identifying these issues, I handled missing data using median imputation and dropped irrelevant or empty fields.\n",
    "\n",
    "To make the data model-ready, I applied various encoding techniques on categorical features and scaled all numerical values. I also cleaned the text data from the \"Customer Remarks\" column using NLP techniques like lowercasing, stopword removal, and lemmatization — although this field was later dropped due to excessive nulls.\n",
    "\n",
    "⚖️ Solving Class Imbalance\n",
    "One of the key issues was that most customers in the dataset were satisfied, meaning the data was imbalanced. A model trained on this directly would become biased and fail to detect unhappy customers — which is the main use case here. I solved this by applying SMOTE, which synthetically creates new samples for the minority class. After using SMOTE on the training data, the class distribution was perfectly balanced, allowing the models to learn fairly.\n",
    "\n",
    "🤖 Model Building and Evaluation\n",
    "I experimented with three different machine learning models:\n",
    "\n",
    "Logistic Regression — As a basic benchmark model that is easy to interpret.\n",
    "\n",
    "Random Forest Classifier — A powerful and reliable ensemble model that performed very well.\n",
    "\n",
    "Gradient Boosting Classifier — A more complex model that helps with boosting performance for edge cases.\n",
    "\n",
    "All models were trained, tested, and evaluated using Accuracy, Precision, Recall, F1 Score, and ROC AUC. Among the three, Random Forest gave the most balanced and consistent results across all metrics.\n",
    "\n",
    "🔧 Hyperparameter Tuning\n",
    "To squeeze out the best possible performance, I used GridSearchCV to tune hyperparameters. For Random Forest, I tuned the number of trees, tree depth, and minimum sample splits. This led to a noticeable improvement, especially in recall and F1 score, which are important for catching dissatisfied customers.\n",
    "\n",
    "📌 Business Insights and Impact\n",
    "The most influential features turned out to be:\n",
    "\n",
    "Connected handling time\n",
    "\n",
    "Product category\n",
    "\n",
    "Agent shift and experience\n",
    "\n",
    "Item price\n",
    "\n",
    "These insights make it easier for Flipkart to improve operations. For example, long call durations were often linked with lower satisfaction — suggesting a need for better agent training or faster resolutions. Certain shifts or product categories also showed patterns that could help improve agent scheduling or content for FAQs.\n",
    "\n",
    "✅ Final Steps and Model Deployment\n",
    "I saved the best model (Random Forest) using joblib and successfully reloaded it to check predictions on new/unseen data. This makes the model completely ready to be deployed into a real-time system or dashboard for use by the operations or customer success team.\n",
    "\n",
    "🎯 Conclusion\n",
    "Working on this project gave me hands-on experience in every step of a real-world ML workflow — from cleaning messy data and engineering features to handling imbalance, tuning models, and preparing the final output for deployment. It showed me how machine learning can be more than just predictions — it can drive real business decisions and improve customer experience at scale."
   ]
  },
  {
   "cell_type": "markdown",
   "metadata": {
    "id": "w6K7xa23Elo4"
   },
   "source": [
    "# **GitHub Link -**"
   ]
  },
  {
   "cell_type": "markdown",
   "metadata": {
    "id": "h1o69JH3Eqqn"
   },
   "source": [
    "https://github.com/tanushreedhananjayb/flipkart-csat-ml"
   ]
  },
  {
   "cell_type": "markdown",
   "metadata": {
    "id": "yQaldy8SH6Dl"
   },
   "source": [
    "# **Problem Statement**\n"
   ]
  },
  {
   "cell_type": "markdown",
   "metadata": {
    "id": "DpeJGUA3kjGy"
   },
   "source": [
    "* Title: Improving Flipkart's Customer Support using Machine Learning :\n",
    "In today’s fast-paced e-commerce environment, providing efficient and accurate customer support is critical to maintaining customer satisfaction and loyalty. Flipkart receives thousands of customer support interactions daily, ranging from order-related queries to technical complaints and service feedback.\n",
    "\n",
    "The objective of this project is to analyze customer support data, identify underlying patterns and sentiments, and use machine learning models to automate tasks such as:\n",
    "\n",
    "-> Categorizing support requests\n",
    "-> Predicting customer sentiment\n",
    "-> Prioritizing critical issues\n",
    "-> Enhancing overall service efficiency\n",
    "\n",
    "By extracting actionable insights and deploying predictive models, this solution aims to help Flipkart reduce response times, increase support accuracy, and optimize resource allocation within the customer service department."
   ]
  },
  {
   "cell_type": "markdown",
   "metadata": {
    "id": "mDgbUHAGgjLW"
   },
   "source": [
    "# **General Guidelines** : -  "
   ]
  },
  {
   "cell_type": "markdown",
   "metadata": {
    "id": "ZrxVaUj-hHfC"
   },
   "source": [
    "1.   Well-structured, formatted, and commented code is required.\n",
    "2.   Exception Handling, Production Grade Code & Deployment Ready Code will be a plus. Those students will be awarded some additional credits.\n",
    "     \n",
    "     The additional credits will have advantages over other students during Star Student selection.\n",
    "       \n",
    "             [ Note: - Deployment Ready Code is defined as, the whole .ipynb notebook should be executable in one go\n",
    "                       without a single error logged. ]\n",
    "\n",
    "3.   Each and every logic should have proper comments.\n",
    "4. You may add as many number of charts you want. Make Sure for each and every chart the following format should be answered.\n",
    "        \n",
    "\n",
    "```\n",
    "# Chart visualization code\n",
    "```\n",
    "            \n",
    "\n",
    "*   Why did you pick the specific chart?\n",
    "*   What is/are the insight(s) found from the chart?\n",
    "* Will the gained insights help creating a positive business impact?\n",
    "Are there any insights that lead to negative growth? Justify with specific reason.\n",
    "\n",
    "5. You have to create at least 15 logical & meaningful charts having important insights.\n",
    "\n",
    "\n",
    "[ Hints : - Do the Vizualization in  a structured way while following \"UBM\" Rule.\n",
    "\n",
    "U - Univariate Analysis,\n",
    "\n",
    "B - Bivariate Analysis (Numerical - Categorical, Numerical - Numerical, Categorical - Categorical)\n",
    "\n",
    "M - Multivariate Analysis\n",
    " ]\n",
    "\n",
    "\n",
    "\n",
    "\n",
    "\n",
    "6. You may add more ml algorithms for model creation. Make sure for each and every algorithm, the following format should be answered.\n",
    "\n",
    "\n",
    "*   Explain the ML Model used and it's performance using Evaluation metric Score Chart.\n",
    "\n",
    "\n",
    "*   Cross- Validation & Hyperparameter Tuning\n",
    "\n",
    "*   Have you seen any improvement? Note down the improvement with updates Evaluation metric Score Chart.\n",
    "\n",
    "*   Explain each evaluation metric's indication towards business and the business impact pf the ML model used.\n",
    "\n",
    "\n",
    "\n",
    "\n",
    "\n",
    "\n",
    "\n",
    "\n",
    "\n",
    "\n",
    "\n",
    "\n",
    "\n",
    "\n",
    "\n",
    "\n",
    "\n",
    "\n"
   ]
  },
  {
   "cell_type": "markdown",
   "metadata": {
    "id": "O_i_v8NEhb9l"
   },
   "source": [
    "# ***Let's Begin !***"
   ]
  },
  {
   "cell_type": "markdown",
   "metadata": {
    "id": "HhfV-JJviCcP"
   },
   "source": [
    "## ***1. Know Your Data***"
   ]
  },
  {
   "cell_type": "markdown",
   "metadata": {
    "id": "Y3lxredqlCYt"
   },
   "source": [
    "### Import Libraries"
   ]
  },
  {
   "cell_type": "code",
   "execution_count": 2,
   "metadata": {
    "id": "M8Vqi-pPk-HR"
   },
   "outputs": [
    {
     "name": "stderr",
     "output_type": "stream",
     "text": [
      "[nltk_data] Downloading package stopwords to\n",
      "[nltk_data]     C:\\Users\\tanus\\AppData\\Roaming\\nltk_data...\n",
      "[nltk_data]   Package stopwords is already up-to-date!\n"
     ]
    }
   ],
   "source": [
    "# Import Libraries\n",
    "import pandas as pd\n",
    "import numpy as np\n",
    "import matplotlib.pyplot as plt\n",
    "import seaborn as sns\n",
    "\n",
    "# Text preprocessing\n",
    "import re\n",
    "import string\n",
    "import nltk\n",
    "nltk.download('stopwords')\n",
    "from nltk.corpus import stopwords\n",
    "\n",
    "# ML\n",
    "from sklearn.model_selection import train_test_split\n",
    "from sklearn.feature_extraction.text import TfidfVectorizer\n",
    "from sklearn.metrics import classification_report, confusion_matrix, accuracy_score\n",
    "\n",
    "# Warnings\n",
    "import warnings\n",
    "warnings.filterwarnings('ignore')\n"
   ]
  },
  {
   "cell_type": "markdown",
   "metadata": {
    "id": "3RnN4peoiCZX"
   },
   "source": [
    "### Dataset Loading"
   ]
  },
  {
   "cell_type": "code",
   "execution_count": 3,
   "metadata": {
    "id": "4CkvbW_SlZ_R"
   },
   "outputs": [
    {
     "name": "stdout",
     "output_type": "stream",
     "text": [
      "Dataset Shape: (85907, 20)\n"
     ]
    }
   ],
   "source": [
    "# Load Dataset\n",
    "df = pd.read_csv('Customer_support_data.csv')\n",
    "\n",
    "# Display the shape of the dataset\n",
    "print(f\"Dataset Shape: {df.shape}\")\n"
   ]
  },
  {
   "cell_type": "markdown",
   "metadata": {
    "id": "x71ZqKXriCWQ"
   },
   "source": [
    "### Dataset First View"
   ]
  },
  {
   "cell_type": "code",
   "execution_count": 4,
   "metadata": {
    "id": "LWNFOSvLl09H"
   },
   "outputs": [
    {
     "data": {
      "text/html": [
       "<div>\n",
       "<style scoped>\n",
       "    .dataframe tbody tr th:only-of-type {\n",
       "        vertical-align: middle;\n",
       "    }\n",
       "\n",
       "    .dataframe tbody tr th {\n",
       "        vertical-align: top;\n",
       "    }\n",
       "\n",
       "    .dataframe thead th {\n",
       "        text-align: right;\n",
       "    }\n",
       "</style>\n",
       "<table border=\"1\" class=\"dataframe\">\n",
       "  <thead>\n",
       "    <tr style=\"text-align: right;\">\n",
       "      <th></th>\n",
       "      <th>Unique id</th>\n",
       "      <th>channel_name</th>\n",
       "      <th>category</th>\n",
       "      <th>Sub-category</th>\n",
       "      <th>Customer Remarks</th>\n",
       "      <th>Order_id</th>\n",
       "      <th>order_date_time</th>\n",
       "      <th>Issue_reported at</th>\n",
       "      <th>issue_responded</th>\n",
       "      <th>Survey_response_Date</th>\n",
       "      <th>Customer_City</th>\n",
       "      <th>Product_category</th>\n",
       "      <th>Item_price</th>\n",
       "      <th>connected_handling_time</th>\n",
       "      <th>Agent_name</th>\n",
       "      <th>Supervisor</th>\n",
       "      <th>Manager</th>\n",
       "      <th>Tenure Bucket</th>\n",
       "      <th>Agent Shift</th>\n",
       "      <th>CSAT Score</th>\n",
       "    </tr>\n",
       "  </thead>\n",
       "  <tbody>\n",
       "    <tr>\n",
       "      <th>0</th>\n",
       "      <td>7e9ae164-6a8b-4521-a2d4-58f7c9fff13f</td>\n",
       "      <td>Outcall</td>\n",
       "      <td>Product Queries</td>\n",
       "      <td>Life Insurance</td>\n",
       "      <td>NaN</td>\n",
       "      <td>c27c9bb4-fa36-4140-9f1f-21009254ffdb</td>\n",
       "      <td>NaN</td>\n",
       "      <td>01/08/2023 11:13</td>\n",
       "      <td>01/08/2023 11:47</td>\n",
       "      <td>01-Aug-23</td>\n",
       "      <td>NaN</td>\n",
       "      <td>NaN</td>\n",
       "      <td>NaN</td>\n",
       "      <td>NaN</td>\n",
       "      <td>Richard Buchanan</td>\n",
       "      <td>Mason Gupta</td>\n",
       "      <td>Jennifer Nguyen</td>\n",
       "      <td>On Job Training</td>\n",
       "      <td>Morning</td>\n",
       "      <td>5</td>\n",
       "    </tr>\n",
       "    <tr>\n",
       "      <th>1</th>\n",
       "      <td>b07ec1b0-f376-43b6-86df-ec03da3b2e16</td>\n",
       "      <td>Outcall</td>\n",
       "      <td>Product Queries</td>\n",
       "      <td>Product Specific Information</td>\n",
       "      <td>NaN</td>\n",
       "      <td>d406b0c7-ce17-4654-b9de-f08d421254bd</td>\n",
       "      <td>NaN</td>\n",
       "      <td>01/08/2023 12:52</td>\n",
       "      <td>01/08/2023 12:54</td>\n",
       "      <td>01-Aug-23</td>\n",
       "      <td>NaN</td>\n",
       "      <td>NaN</td>\n",
       "      <td>NaN</td>\n",
       "      <td>NaN</td>\n",
       "      <td>Vicki Collins</td>\n",
       "      <td>Dylan Kim</td>\n",
       "      <td>Michael Lee</td>\n",
       "      <td>&gt;90</td>\n",
       "      <td>Morning</td>\n",
       "      <td>5</td>\n",
       "    </tr>\n",
       "    <tr>\n",
       "      <th>2</th>\n",
       "      <td>200814dd-27c7-4149-ba2b-bd3af3092880</td>\n",
       "      <td>Inbound</td>\n",
       "      <td>Order Related</td>\n",
       "      <td>Installation/demo</td>\n",
       "      <td>NaN</td>\n",
       "      <td>c273368d-b961-44cb-beaf-62d6fd6c00d5</td>\n",
       "      <td>NaN</td>\n",
       "      <td>01/08/2023 20:16</td>\n",
       "      <td>01/08/2023 20:38</td>\n",
       "      <td>01-Aug-23</td>\n",
       "      <td>NaN</td>\n",
       "      <td>NaN</td>\n",
       "      <td>NaN</td>\n",
       "      <td>NaN</td>\n",
       "      <td>Duane Norman</td>\n",
       "      <td>Jackson Park</td>\n",
       "      <td>William Kim</td>\n",
       "      <td>On Job Training</td>\n",
       "      <td>Evening</td>\n",
       "      <td>5</td>\n",
       "    </tr>\n",
       "    <tr>\n",
       "      <th>3</th>\n",
       "      <td>eb0d3e53-c1ca-42d3-8486-e42c8d622135</td>\n",
       "      <td>Inbound</td>\n",
       "      <td>Returns</td>\n",
       "      <td>Reverse Pickup Enquiry</td>\n",
       "      <td>NaN</td>\n",
       "      <td>5aed0059-55a4-4ec6-bb54-97942092020a</td>\n",
       "      <td>NaN</td>\n",
       "      <td>01/08/2023 20:56</td>\n",
       "      <td>01/08/2023 21:16</td>\n",
       "      <td>01-Aug-23</td>\n",
       "      <td>NaN</td>\n",
       "      <td>NaN</td>\n",
       "      <td>NaN</td>\n",
       "      <td>NaN</td>\n",
       "      <td>Patrick Flores</td>\n",
       "      <td>Olivia Wang</td>\n",
       "      <td>John Smith</td>\n",
       "      <td>&gt;90</td>\n",
       "      <td>Evening</td>\n",
       "      <td>5</td>\n",
       "    </tr>\n",
       "    <tr>\n",
       "      <th>4</th>\n",
       "      <td>ba903143-1e54-406c-b969-46c52f92e5df</td>\n",
       "      <td>Inbound</td>\n",
       "      <td>Cancellation</td>\n",
       "      <td>Not Needed</td>\n",
       "      <td>NaN</td>\n",
       "      <td>e8bed5a9-6933-4aff-9dc6-ccefd7dcde59</td>\n",
       "      <td>NaN</td>\n",
       "      <td>01/08/2023 10:30</td>\n",
       "      <td>01/08/2023 10:32</td>\n",
       "      <td>01-Aug-23</td>\n",
       "      <td>NaN</td>\n",
       "      <td>NaN</td>\n",
       "      <td>NaN</td>\n",
       "      <td>NaN</td>\n",
       "      <td>Christopher Sanchez</td>\n",
       "      <td>Austin Johnson</td>\n",
       "      <td>Michael Lee</td>\n",
       "      <td>0-30</td>\n",
       "      <td>Morning</td>\n",
       "      <td>5</td>\n",
       "    </tr>\n",
       "  </tbody>\n",
       "</table>\n",
       "</div>"
      ],
      "text/plain": [
       "                              Unique id channel_name         category  \\\n",
       "0  7e9ae164-6a8b-4521-a2d4-58f7c9fff13f      Outcall  Product Queries   \n",
       "1  b07ec1b0-f376-43b6-86df-ec03da3b2e16      Outcall  Product Queries   \n",
       "2  200814dd-27c7-4149-ba2b-bd3af3092880      Inbound    Order Related   \n",
       "3  eb0d3e53-c1ca-42d3-8486-e42c8d622135      Inbound          Returns   \n",
       "4  ba903143-1e54-406c-b969-46c52f92e5df      Inbound     Cancellation   \n",
       "\n",
       "                   Sub-category Customer Remarks  \\\n",
       "0                Life Insurance              NaN   \n",
       "1  Product Specific Information              NaN   \n",
       "2             Installation/demo              NaN   \n",
       "3        Reverse Pickup Enquiry              NaN   \n",
       "4                    Not Needed              NaN   \n",
       "\n",
       "                               Order_id order_date_time Issue_reported at  \\\n",
       "0  c27c9bb4-fa36-4140-9f1f-21009254ffdb             NaN  01/08/2023 11:13   \n",
       "1  d406b0c7-ce17-4654-b9de-f08d421254bd             NaN  01/08/2023 12:52   \n",
       "2  c273368d-b961-44cb-beaf-62d6fd6c00d5             NaN  01/08/2023 20:16   \n",
       "3  5aed0059-55a4-4ec6-bb54-97942092020a             NaN  01/08/2023 20:56   \n",
       "4  e8bed5a9-6933-4aff-9dc6-ccefd7dcde59             NaN  01/08/2023 10:30   \n",
       "\n",
       "    issue_responded Survey_response_Date Customer_City Product_category  \\\n",
       "0  01/08/2023 11:47            01-Aug-23           NaN              NaN   \n",
       "1  01/08/2023 12:54            01-Aug-23           NaN              NaN   \n",
       "2  01/08/2023 20:38            01-Aug-23           NaN              NaN   \n",
       "3  01/08/2023 21:16            01-Aug-23           NaN              NaN   \n",
       "4  01/08/2023 10:32            01-Aug-23           NaN              NaN   \n",
       "\n",
       "   Item_price  connected_handling_time           Agent_name      Supervisor  \\\n",
       "0         NaN                      NaN     Richard Buchanan     Mason Gupta   \n",
       "1         NaN                      NaN        Vicki Collins       Dylan Kim   \n",
       "2         NaN                      NaN         Duane Norman    Jackson Park   \n",
       "3         NaN                      NaN       Patrick Flores     Olivia Wang   \n",
       "4         NaN                      NaN  Christopher Sanchez  Austin Johnson   \n",
       "\n",
       "           Manager    Tenure Bucket Agent Shift  CSAT Score  \n",
       "0  Jennifer Nguyen  On Job Training     Morning           5  \n",
       "1      Michael Lee              >90     Morning           5  \n",
       "2      William Kim  On Job Training     Evening           5  \n",
       "3       John Smith              >90     Evening           5  \n",
       "4      Michael Lee             0-30     Morning           5  "
      ]
     },
     "execution_count": 4,
     "metadata": {},
     "output_type": "execute_result"
    }
   ],
   "source": [
    "# Dataset First Look\n",
    "# Display top 5 rows\n",
    "df.head()\n"
   ]
  },
  {
   "cell_type": "markdown",
   "metadata": {
    "id": "7hBIi_osiCS2"
   },
   "source": [
    "### Dataset Rows & Columns count"
   ]
  },
  {
   "cell_type": "code",
   "execution_count": 5,
   "metadata": {
    "id": "Kllu7SJgmLij"
   },
   "outputs": [
    {
     "name": "stdout",
     "output_type": "stream",
     "text": [
      "Rows: 85907\n",
      "Columns: 20\n"
     ]
    }
   ],
   "source": [
    "# Dataset Rows & Columns count\n",
    "print(\"Rows:\", df.shape[0])\n",
    "print(\"Columns:\", df.shape[1])\n"
   ]
  },
  {
   "cell_type": "markdown",
   "metadata": {
    "id": "JlHwYmJAmNHm"
   },
   "source": [
    "### Dataset Information"
   ]
  },
  {
   "cell_type": "code",
   "execution_count": 6,
   "metadata": {
    "id": "e9hRXRi6meOf"
   },
   "outputs": [
    {
     "name": "stdout",
     "output_type": "stream",
     "text": [
      "<class 'pandas.core.frame.DataFrame'>\n",
      "RangeIndex: 85907 entries, 0 to 85906\n",
      "Data columns (total 20 columns):\n",
      " #   Column                   Non-Null Count  Dtype  \n",
      "---  ------                   --------------  -----  \n",
      " 0   Unique id                85907 non-null  object \n",
      " 1   channel_name             85907 non-null  object \n",
      " 2   category                 85907 non-null  object \n",
      " 3   Sub-category             85907 non-null  object \n",
      " 4   Customer Remarks         28742 non-null  object \n",
      " 5   Order_id                 67675 non-null  object \n",
      " 6   order_date_time          17214 non-null  object \n",
      " 7   Issue_reported at        85907 non-null  object \n",
      " 8   issue_responded          85907 non-null  object \n",
      " 9   Survey_response_Date     85907 non-null  object \n",
      " 10  Customer_City            17079 non-null  object \n",
      " 11  Product_category         17196 non-null  object \n",
      " 12  Item_price               17206 non-null  float64\n",
      " 13  connected_handling_time  242 non-null    float64\n",
      " 14  Agent_name               85907 non-null  object \n",
      " 15  Supervisor               85907 non-null  object \n",
      " 16  Manager                  85907 non-null  object \n",
      " 17  Tenure Bucket            85907 non-null  object \n",
      " 18  Agent Shift              85907 non-null  object \n",
      " 19  CSAT Score               85907 non-null  int64  \n",
      "dtypes: float64(2), int64(1), object(17)\n",
      "memory usage: 13.1+ MB\n"
     ]
    }
   ],
   "source": [
    "# Dataset Info\n",
    "# Data types and null values\n",
    "df.info()\n"
   ]
  },
  {
   "cell_type": "markdown",
   "metadata": {
    "id": "35m5QtbWiB9F"
   },
   "source": [
    "#### Duplicate Values"
   ]
  },
  {
   "cell_type": "code",
   "execution_count": 7,
   "metadata": {
    "id": "1sLdpKYkmox0"
   },
   "outputs": [
    {
     "name": "stdout",
     "output_type": "stream",
     "text": [
      "Total Duplicate Rows: 0\n"
     ]
    }
   ],
   "source": [
    "# Dataset Duplicate Value Count\n",
    "duplicates = df.duplicated().sum()\n",
    "print(\"Total Duplicate Rows:\", duplicates)\n"
   ]
  },
  {
   "cell_type": "markdown",
   "metadata": {
    "id": "PoPl-ycgm1ru"
   },
   "source": [
    "#### Missing Values/Null Values"
   ]
  },
  {
   "cell_type": "code",
   "execution_count": 8,
   "metadata": {
    "id": "GgHWkxvamxVg"
   },
   "outputs": [
    {
     "name": "stdout",
     "output_type": "stream",
     "text": [
      "Unique id                      0\n",
      "channel_name                   0\n",
      "category                       0\n",
      "Sub-category                   0\n",
      "Customer Remarks           57165\n",
      "Order_id                   18232\n",
      "order_date_time            68693\n",
      "Issue_reported at              0\n",
      "issue_responded                0\n",
      "Survey_response_Date           0\n",
      "Customer_City              68828\n",
      "Product_category           68711\n",
      "Item_price                 68701\n",
      "connected_handling_time    85665\n",
      "Agent_name                     0\n",
      "Supervisor                     0\n",
      "Manager                        0\n",
      "Tenure Bucket                  0\n",
      "Agent Shift                    0\n",
      "CSAT Score                     0\n",
      "dtype: int64\n"
     ]
    }
   ],
   "source": [
    "# Missing Values/Null Values Count\n",
    "print(df.isnull().sum())\n"
   ]
  },
  {
   "cell_type": "code",
   "execution_count": 9,
   "metadata": {
    "id": "3q5wnI3om9sJ"
   },
   "outputs": [
    {
     "data": {
      "image/png": "[encoded data removed]",
      "text/plain": [
       "<Figure size 1000x600 with 1 Axes>"
      ]
     },
     "metadata": {},
     "output_type": "display_data"
    }
   ],
   "source": [
    "# Visualizing the missing values\n",
    "plt.figure(figsize=(10,6))\n",
    "sns.heatmap(df.isnull(), cbar=False, cmap='viridis')\n",
    "plt.title(\"Missing Values Heatmap\")\n",
    "plt.show()"
   ]
  },
  {
   "cell_type": "markdown",
   "metadata": {
    "id": "H0kj-8xxnORC"
   },
   "source": [
    "### What did you know about your dataset?"
   ]
  },
  {
   "cell_type": "markdown",
   "metadata": {
    "id": "gfoNAAC-nUe_"
   },
   "source": [
    "After exploring the dataset, here are a few important things I’ve understood:\n",
    "\n",
    "* The dataset contains 85,907 records with 20 columns capturing various aspects of customer support interactions on the Flipkart platform.\n",
    "\n",
    "* Key columns include:\n",
    "\n",
    "    -> channel_name, category, and Sub-category to identify the nature of customer support interactions\n",
    "\n",
    "    -> Customer Remarks which likely holds the customer's message or query (text data)\n",
    "\n",
    "    -> Issue_reported at and issue_responded, which are useful for time-based insights like response delays\n",
    "\n",
    "    -> CSAT Score which is the Customer Satisfaction Score – this could serve as a target variable if we plan to predict satisfaction\n",
    "\n",
    "* Most columns are categorical or textual in nature, with only a couple (Item_price, connected_handling_time, and CSAT Score) being numerical.\n",
    "\n",
    "* There are no duplicate rows, which is great and saves one preprocessing step.\n",
    "\n",
    "* However, a significant number of missing values are present:\n",
    "\n",
    "    -> For instance, over 57,000 missing values in Customer Remarks, and 68,000+ in columns like Customer_City, Product_category, and Item_price\n",
    "\n",
    "    -> The connected_handling_time field is almost entirely missing with only 242 non-null values, which may limit its use in analysis\n",
    "\n",
    "* The dataset includes some useful hierarchical context: Agent_name, Supervisor, and Manager, as well as columns like Tenure Bucket and Agent Shift which could potentially influence the CSAT Score.\n",
    "\n",
    "* Date fields like order_date_time, Issue_reported at, and Survey_response_Date will need to be properly parsed into datetime formats for further time-based analysis.\n",
    "\n",
    "Overall, the dataset looks rich and interesting with a good mix of structured and unstructured data. There's definitely a need for extensive data cleaning and imputation, especially if we want to build reliable visualizations and machine learning models later on. Despite the missing values, there’s enough data to extract meaningful insights around customer satisfaction, issue categories, and agent performance.\n",
    "\n"
   ]
  },
  {
   "cell_type": "markdown",
   "metadata": {
    "id": "nA9Y7ga8ng1Z"
   },
   "source": [
    "## ***2. Understanding Your Variables***"
   ]
  },
  {
   "cell_type": "code",
   "execution_count": 10,
   "metadata": {
    "id": "j7xfkqrt5Ag5"
   },
   "outputs": [
    {
     "name": "stdout",
     "output_type": "stream",
     "text": [
      "Dataset Columns:\n",
      " ['Unique id', 'channel_name', 'category', 'Sub-category', 'Customer Remarks', 'Order_id', 'order_date_time', 'Issue_reported at', 'issue_responded', 'Survey_response_Date', 'Customer_City', 'Product_category', 'Item_price', 'connected_handling_time', 'Agent_name', 'Supervisor', 'Manager', 'Tenure Bucket', 'Agent Shift', 'CSAT Score']\n"
     ]
    }
   ],
   "source": [
    "# Dataset Columns\n",
    "# View all column names\n",
    "print(\"Dataset Columns:\\n\", df.columns.tolist())\n"
   ]
  },
  {
   "cell_type": "code",
   "execution_count": 11,
   "metadata": {
    "id": "DnOaZdaE5Q5t"
   },
   "outputs": [
    {
     "name": "stdout",
     "output_type": "stream",
     "text": [
      "\n",
      "Dataset Describe (Numeric):\n",
      "           Item_price  connected_handling_time    CSAT Score\n",
      "count   17206.000000               242.000000  85907.000000\n",
      "mean     5660.774846               462.400826      4.242157\n",
      "std     12825.728411               246.295037      1.378903\n",
      "min         0.000000                 0.000000      1.000000\n",
      "25%       392.000000               293.000000      4.000000\n",
      "50%       979.000000               427.000000      5.000000\n",
      "75%      2699.750000               592.250000      5.000000\n",
      "max    164999.000000              1986.000000      5.000000\n",
      "\n",
      "Dataset Describe (All):\n",
      "                                    Unique id channel_name category  \\\n",
      "count                                  85907        85907    85907   \n",
      "unique                                 85907            3       12   \n",
      "top     7e9ae164-6a8b-4521-a2d4-58f7c9fff13f      Inbound  Returns   \n",
      "freq                                       1        68142    44097   \n",
      "mean                                     NaN          NaN      NaN   \n",
      "std                                      NaN          NaN      NaN   \n",
      "min                                      NaN          NaN      NaN   \n",
      "25%                                      NaN          NaN      NaN   \n",
      "50%                                      NaN          NaN      NaN   \n",
      "75%                                      NaN          NaN      NaN   \n",
      "max                                      NaN          NaN      NaN   \n",
      "\n",
      "                  Sub-category Customer Remarks  \\\n",
      "count                    85907            28742   \n",
      "unique                      57            18231   \n",
      "top     Reverse Pickup Enquiry            Good    \n",
      "freq                     22389             1390   \n",
      "mean                       NaN              NaN   \n",
      "std                        NaN              NaN   \n",
      "min                        NaN              NaN   \n",
      "25%                        NaN              NaN   \n",
      "50%                        NaN              NaN   \n",
      "75%                        NaN              NaN   \n",
      "max                        NaN              NaN   \n",
      "\n",
      "                                    Order_id   order_date_time  \\\n",
      "count                                  67675             17214   \n",
      "unique                                 67675             13766   \n",
      "top     c27c9bb4-fa36-4140-9f1f-21009254ffdb  09/08/2023 11:55   \n",
      "freq                                       1                 7   \n",
      "mean                                     NaN               NaN   \n",
      "std                                      NaN               NaN   \n",
      "min                                      NaN               NaN   \n",
      "25%                                      NaN               NaN   \n",
      "50%                                      NaN               NaN   \n",
      "75%                                      NaN               NaN   \n",
      "max                                      NaN               NaN   \n",
      "\n",
      "       Issue_reported at   issue_responded Survey_response_Date Customer_City  \\\n",
      "count              85907             85907                85907         17079   \n",
      "unique             30923             30262                   31          1782   \n",
      "top     13/08/2023 10:40  28/08/2023 00:00            28-Aug-23     HYDERABAD   \n",
      "freq                  13              3378                 3452           722   \n",
      "mean                 NaN               NaN                  NaN           NaN   \n",
      "std                  NaN               NaN                  NaN           NaN   \n",
      "min                  NaN               NaN                  NaN           NaN   \n",
      "25%                  NaN               NaN                  NaN           NaN   \n",
      "50%                  NaN               NaN                  NaN           NaN   \n",
      "75%                  NaN               NaN                  NaN           NaN   \n",
      "max                  NaN               NaN                  NaN           NaN   \n",
      "\n",
      "       Product_category     Item_price  connected_handling_time    Agent_name  \\\n",
      "count             17196   17206.000000               242.000000         85907   \n",
      "unique                9            NaN                      NaN          1371   \n",
      "top         Electronics            NaN                      NaN  Wendy Taylor   \n",
      "freq               4706            NaN                      NaN           429   \n",
      "mean                NaN    5660.774846               462.400826           NaN   \n",
      "std                 NaN   12825.728411               246.295037           NaN   \n",
      "min                 NaN       0.000000                 0.000000           NaN   \n",
      "25%                 NaN     392.000000               293.000000           NaN   \n",
      "50%                 NaN     979.000000               427.000000           NaN   \n",
      "75%                 NaN    2699.750000               592.250000           NaN   \n",
      "max                 NaN  164999.000000              1986.000000           NaN   \n",
      "\n",
      "         Supervisor     Manager Tenure Bucket Agent Shift    CSAT Score  \n",
      "count         85907       85907         85907       85907  85907.000000  \n",
      "unique           40           6             5           5           NaN  \n",
      "top     Carter Park  John Smith           >90     Morning           NaN  \n",
      "freq           4273       25261         30660       41426           NaN  \n",
      "mean            NaN         NaN           NaN         NaN      4.242157  \n",
      "std             NaN         NaN           NaN         NaN      1.378903  \n",
      "min             NaN         NaN           NaN         NaN      1.000000  \n",
      "25%             NaN         NaN           NaN         NaN      4.000000  \n",
      "50%             NaN         NaN           NaN         NaN      5.000000  \n",
      "75%             NaN         NaN           NaN         NaN      5.000000  \n",
      "max             NaN         NaN           NaN         NaN      5.000000  \n"
     ]
    }
   ],
   "source": [
    "# Dataset Describe\n",
    "# Get summary stats for numeric and object data\n",
    "print(\"\\nDataset Describe (Numeric):\\n\", df.describe())\n",
    "print(\"\\nDataset Describe (All):\\n\", df.describe(include='all'))"
   ]
  },
  {
   "cell_type": "markdown",
   "metadata": {
    "id": "PBTbrJXOngz2"
   },
   "source": [
    "### Variables Description"
   ]
  },
  {
   "cell_type": "markdown",
   "metadata": {
    "id": "aJV4KIxSnxay"
   },
   "source": [
    "Each column in the dataset represents a specific part of the support process:\n",
    "\n",
    "- **Unique id**: A unique ticket identifier\n",
    "- **channel_name**: Source of the support ticket (Inbound, Outcall, etc.)\n",
    "- **category** & **Sub-category**: Type of issue raised by the customer\n",
    "- **Customer Remarks**: Main body of the customer's message\n",
    "- **Order_id**: Flipkart order related to the complaint (may be missing for some tickets)\n",
    "- **order_date_time**: Date of order placed\n",
    "- **Issue_reported at** and **issue_responded**: Timestamps to calculate support response time\n",
    "- **Survey_response_Date**: When the CSAT was given\n",
    "- **Customer_City**: City of the user\n",
    "- **Product_category** and **Item_price**: Info about the product involved\n",
    "- **connected_handling_time**: Agent connection time (mostly missing)\n",
    "- **Agent_name**, **Supervisor**, **Manager**: People who handled the case\n",
    "- **Tenure Bucket**: Agent's experience level\n",
    "- **Agent Shift**: Shift timing (Morning/Evening)\n",
    "- **CSAT Score**: Customer Satisfaction rating (0–5)"
   ]
  },
  {
   "cell_type": "markdown",
   "metadata": {
    "id": "u3PMJOP6ngxN"
   },
   "source": [
    "### Check Unique Values for each variable."
   ]
  },
  {
   "cell_type": "code",
   "execution_count": 12,
   "metadata": {
    "id": "zms12Yq5n-jE"
   },
   "outputs": [
    {
     "name": "stdout",
     "output_type": "stream",
     "text": [
      "Unique value count per column:\n",
      " Unique id                  85907\n",
      "channel_name                   3\n",
      "category                      12\n",
      "Sub-category                  57\n",
      "Customer Remarks           18231\n",
      "Order_id                   67675\n",
      "order_date_time            13766\n",
      "Issue_reported at          30923\n",
      "issue_responded            30262\n",
      "Survey_response_Date          31\n",
      "Customer_City               1782\n",
      "Product_category               9\n",
      "Item_price                  2789\n",
      "connected_handling_time      211\n",
      "Agent_name                  1371\n",
      "Supervisor                    40\n",
      "Manager                        6\n",
      "Tenure Bucket                  5\n",
      "Agent Shift                    5\n",
      "CSAT Score                     5\n",
      "dtype: int64\n"
     ]
    }
   ],
   "source": [
    "# Check Unique Values for each variable.\n",
    "# Unique values per column\n",
    "print(\"Unique value count per column:\\n\", df.nunique())\n"
   ]
  },
  {
   "cell_type": "markdown",
   "metadata": {
    "id": "dauF4eBmngu3"
   },
   "source": [
    "## 3. ***Data Wrangling***"
   ]
  },
  {
   "cell_type": "markdown",
   "metadata": {
    "id": "bKJF3rekwFvQ"
   },
   "source": [
    "### Data Wrangling Code"
   ]
  },
  {
   "cell_type": "code",
   "execution_count": 13,
   "metadata": {
    "id": "wk-9a2fpoLcV"
   },
   "outputs": [],
   "source": [
    "# Write your code to make your dataset analysis ready.\n",
    "# Convert time-related fields\n",
    "df['Issue_reported at'] = pd.to_datetime(df['Issue_reported at'], errors='coerce')\n",
    "df['issue_responded'] = pd.to_datetime(df['issue_responded'], errors='coerce')\n",
    "\n",
    "# Calculate response time\n",
    "df['response_time_minutes'] = (df['issue_responded'] - df['Issue_reported at']).dt.total_seconds() / 60\n",
    "\n",
    "# Fill missing textual data\n",
    "df['Customer Remarks'].fillna(\"Unknown\", inplace=True)\n",
    "df['Customer_City'].fillna(\"Unknown\", inplace=True)\n",
    "df['Product_category'].fillna(\"Unknown\", inplace=True)\n",
    "\n",
    "# Fill missing price data\n",
    "df['Item_price'].fillna(df['Item_price'].median(), inplace=True)\n"
   ]
  },
  {
   "cell_type": "markdown",
   "metadata": {
    "id": "MSa1f5Uengrz"
   },
   "source": [
    "### What all manipulations have you done and insights you found?"
   ]
  },
  {
   "cell_type": "markdown",
   "metadata": {
    "id": "LbyXE7I1olp8"
   },
   "source": [
    "Before diving into analysis or modeling, I spent time cleaning and preparing the dataset to ensure it’s analysis-ready. Here's what I did and why:\n",
    "\n",
    "1. Converted Time Columns to Datetime Format :\n",
    "Columns like Issue_reported at, issue_responded, and Survey_response_Date were originally in string format. I converted them into proper datetime objects so I could calculate differences like response time in minutes. This transformation also helps when performing time-based filtering, grouping, or trend analysis.\n",
    "\n",
    "2. Created a New Feature: response_time_minutes :\n",
    "To understand how fast customer issues are being addressed, I calculated the time difference between when an issue was reported and when it was responded to. This new feature is valuable for understanding agent efficiency and may correlate with CSAT scores.\n",
    "\n",
    "3. Handled Missing Values :\n",
    "Some columns like Customer Remarks, Customer_City, and Product_category had a lot of missing values. Instead of dropping those rows and losing useful data, I replaced missing entries with \"Unknown\". For the Item_price column, which is numeric, I filled missing values with the median price — using mean might have been skewed due to outliers.\n",
    "The column connected_handling_time was missing in nearly 85,000+ rows, so I’ve kept it for now, but I don't plan to rely on it heavily for modeling or analysis.\n",
    "\n",
    "4. Data Type Optimization :\n",
    "Many categorical variables like Agent Shift, Tenure Bucket, and Manager were automatically inferred as object types. I reviewed and planned to convert them into categories later during encoding for modeling, which helps save memory and makes model training more efficient.\n",
    "\n",
    "* Key Insights After Wrangling\n",
    "-> A large number of rows were missing remarks or product details — likely because not all tickets are product-related or required text input.\n",
    "\n",
    "-> Some records had extremely long or short response times, which could be useful for identifying poor or outstanding performance.\n",
    "\n",
    "-> The CSAT score is mostly concentrated around 5, but now I can explore what causes drops to 1–3 based on cleaned data.\n",
    "\n",
    "-> Agent-level data such as shift, tenure, and supervisor are consistent and complete — great features for team performance analysis."
   ]
  },
  {
   "cell_type": "markdown",
   "metadata": {
    "id": "GF8Ens_Soomf"
   },
   "source": [
    "## ***4. Data Vizualization, Storytelling & Experimenting with charts : Understand the relationships between variables***"
   ]
  },
  {
   "cell_type": "markdown",
   "metadata": {
    "id": "0wOQAZs5pc--"
   },
   "source": [
    "#### Chart - 1"
   ]
  },
  {
   "cell_type": "code",
   "execution_count": 14,
   "metadata": {
    "id": "7v_ESjsspbW7"
   },
   "outputs": [
    {
     "data": {
      "image/png": "[encoded data removed]",
      "text/plain": [
       "<Figure size 640x480 with 1 Axes>"
      ]
     },
     "metadata": {},
     "output_type": "display_data"
    }
   ],
   "source": [
    "# Chart - 1 visualization code : CSAT Score Distribution\n",
    "sns.countplot(x='CSAT Score', data=df, palette='Blues')\n",
    "plt.title(\"Distribution of CSAT Scores\")\n",
    "plt.xlabel(\"CSAT Score\")\n",
    "plt.ylabel(\"Number of Responses\")\n",
    "plt.show()\n"
   ]
  },
  {
   "cell_type": "markdown",
   "metadata": {
    "id": "K5QZ13OEpz2H"
   },
   "source": [
    "##### 1. Why did you pick the specific chart?"
   ]
  },
  {
   "cell_type": "markdown",
   "metadata": {
    "id": "XESiWehPqBRc"
   },
   "source": [
    "A simple count-plot immediately shows the balance (or imbalance) of customer-satisfaction responses; it’s the fastest way to test for skewness or missing score bands.\n",
    "I chose a bar chart (countplot) because CSAT Score is a categorical numeric feature (ranging from 0 to 5). A countplot effectively shows how frequently each score appears."
   ]
  },
  {
   "cell_type": "markdown",
   "metadata": {
    "id": "lQ7QKXXCp7Bj"
   },
   "source": [
    "##### 2. What is/are the insight(s) found from the chart?"
   ]
  },
  {
   "cell_type": "markdown",
   "metadata": {
    "id": "C_j1G7yiqdRP"
   },
   "source": [
    "The majority of customers have given a score of 5, indicating a very high satisfaction rate. Lower scores like 0 to 2 are significantly less frequent.\n",
    "-> Most responses cluster at the top end (score 5), confirming a generally good experience.\n",
    "-> The lowest band (score 1) is rare, suggesting true service failures are exceptions rather than the rule."
   ]
  },
  {
   "cell_type": "markdown",
   "metadata": {
    "id": "448CDAPjqfQr"
   },
   "source": [
    "3. Will the gained insights help creating a positive business impact?\n",
    "Are there any insights that lead to negative growth? Justify with specific reason."
   ]
  },
  {
   "cell_type": "markdown",
   "metadata": {
    "id": "3cspy4FjqxJW"
   },
   "source": [
    "Yes, this is a strong indicator that the overall support experience is positive. However, the few lower ratings shouldn’t be ignored. Analyzing the reasons behind scores of 1 or 2 could help improve service quality even further.\n",
    "\n",
    "* Business impact :\n",
    "-> Positive: Demonstrates strong overall service perception, a datapoint marketing can leverage in campaigns.\n",
    "-> Negative risk: A complacency trap—because the tail of low scores is small it can be ignored; if those few detractors churn, lifetime-value erosion could outpace acquisition savings. Monitoring the tail is therefore critical."
   ]
  },
  {
   "cell_type": "markdown",
   "metadata": {
    "id": "KSlN3yHqYklG"
   },
   "source": [
    "#### Chart - 2"
   ]
  },
  {
   "cell_type": "code",
   "execution_count": 15,
   "metadata": {
    "id": "R4YgtaqtYklH",
    "scrolled": true
   },
   "outputs": [
    {
     "data": {
      "image/png": "[encoded data removed]",
      "text/plain": [
       "<Figure size 640x480 with 1 Axes>"
      ]
     },
     "metadata": {},
     "output_type": "display_data"
    }
   ],
   "source": [
    "# Chart - 2 visualization code:  Support Categories\n",
    "sns.countplot(y='category', data=df, order=df['category'].value_counts().index, palette='Greens')\n",
    "plt.title(\"Support Category Distribution\")\n",
    "plt.xlabel(\"Ticket Count\")\n",
    "plt.ylabel(\"Category\")\n",
    "plt.show()\n"
   ]
  },
  {
   "cell_type": "markdown",
   "metadata": {
    "id": "t6dVpIINYklI"
   },
   "source": [
    "##### 1. Why did you pick the specific chart?"
   ]
  },
  {
   "cell_type": "markdown",
   "metadata": {
    "id": "5aaW0BYyYklI"
   },
   "source": [
    "A horizontal bar chart is ideal for categorical data like support issue categories, especially when the number of categories is large or labels are long.\n",
    "\n",
    "A horizontal bar chart lets leadership see—in a single glance—where agents spend most time (e.g., “Product Queries” vs “Returns”)."
   ]
  },
  {
   "cell_type": "markdown",
   "metadata": {
    "id": "ijmpgYnKYklI"
   },
   "source": [
    "##### 2. What is/are the insight(s) found from the chart?"
   ]
  },
  {
   "cell_type": "markdown",
   "metadata": {
    "id": "PSx9atu2YklI"
   },
   "source": [
    "The most common support categories are “Order Related”, “Returns”, and “Product Queries”. This reflects typical customer concerns in e-commerce platforms.\n",
    "\n",
    "* Insights gained :\n",
    "-> “Product Queries” dominate inbound volume.\n",
    "-> “Returns” and “Cancellation” are secondary but still material."
   ]
  },
  {
   "cell_type": "markdown",
   "metadata": {
    "id": "-JiQyfWJYklI"
   },
   "source": [
    "##### 3. Will the gained insights help creating a positive business impact?\n",
    "Are there any insights that lead to negative growth? Justify with specific reason."
   ]
  },
  {
   "cell_type": "markdown",
   "metadata": {
    "id": "BcBbebzrYklV"
   },
   "source": [
    "Absolutely. Focusing automation and knowledge base content around these frequently reported categories can reduce support load and speed up issue resolution. No negative growth is implied, but other less-frequent issues shouldn’t be ignored either.\n",
    "\n",
    "* Business impact :\n",
    "-> Positive: Knowing the dominant category helps target self-service content (FAQ, chat-bots) to deflect volume, reducing cost per contact.\n",
    "-> Potential negative: If “Returns” begins trending upward it can signal product-quality issues; left unchecked it erodes margin and brand equity."
   ]
  },
  {
   "cell_type": "markdown",
   "metadata": {
    "id": "EM7whBJCYoAo"
   },
   "source": [
    "#### Chart - 3"
   ]
  },
  {
   "cell_type": "code",
   "execution_count": 16,
   "metadata": {
    "id": "t6GMdE67YoAp"
   },
   "outputs": [
    {
     "data": {
      "image/png": "[encoded data removed]",
      "text/plain": [
       "<Figure size 640x480 with 1 Axes>"
      ]
     },
     "metadata": {},
     "output_type": "display_data"
    }
   ],
   "source": [
    "# Chart - 3 visualization code : Top 10 Sub-categories\n",
    "sns.countplot(y='Sub-category', data=df, order=df['Sub-category'].value_counts().index[:10], palette='magma')\n",
    "plt.title(\"Top 10 Sub-categories\")\n",
    "plt.xlabel(\"Count\")\n",
    "plt.ylabel(\"Sub-category\")\n",
    "plt.show()\n"
   ]
  },
  {
   "cell_type": "markdown",
   "metadata": {
    "id": "fge-S5ZAYoAp"
   },
   "source": [
    "##### 1. Why did you pick the specific chart?"
   ]
  },
  {
   "cell_type": "markdown",
   "metadata": {
    "id": "5dBItgRVYoAp"
   },
   "source": [
    "This countplot helps drill down from broader categories to specific issue types that customers face most often."
   ]
  },
  {
   "cell_type": "markdown",
   "metadata": {
    "id": "85gYPyotYoAp"
   },
   "source": [
    "##### 2. What is/are the insight(s) found from the chart?"
   ]
  },
  {
   "cell_type": "markdown",
   "metadata": {
    "id": "4jstXR6OYoAp"
   },
   "source": [
    "Sub-categories like “Installation/demo”, “Reverse Pickup Enquiry”, and “Product Specific Information” are highly reported. These issues are likely time-sensitive or unclear to customers."
   ]
  },
  {
   "cell_type": "markdown",
   "metadata": {
    "id": "RoGjAbkUYoAp"
   },
   "source": [
    "3. Will the gained insights help creating a positive business impact?\n",
    "Are there any insights that lead to negative growth? Justify with specific reason."
   ]
  },
  {
   "cell_type": "markdown",
   "metadata": {
    "id": "zfJ8IqMcYoAp"
   },
   "source": [
    "Yes, this can directly influence UX improvements like clearer messaging post-purchase. Delay in installations or unclear return instructions can lead to frustration, so solving these proactively will reduce support demand."
   ]
  },
  {
   "cell_type": "markdown",
   "metadata": {
    "id": "4Of9eVA-YrdM"
   },
   "source": [
    "#### Chart - 4"
   ]
  },
  {
   "cell_type": "code",
   "execution_count": 17,
   "metadata": {
    "id": "irlUoxc8YrdO"
   },
   "outputs": [
    {
     "data": {
      "image/png": "[encoded data removed]",
      "text/plain": [
       "<Figure size 640x480 with 1 Axes>"
      ]
     },
     "metadata": {},
     "output_type": "display_data"
    }
   ],
   "source": [
    "# Chart - 4 visualization code : Response Time Distribution\n",
    "sns.histplot(df['response_time_minutes'].dropna(), bins=40, kde=True, color='orange')\n",
    "plt.title(\"Agent Response Time (Minutes)\")\n",
    "plt.xlabel(\"Response Time\")\n",
    "plt.ylabel(\"Frequency\")\n",
    "plt.show()\n"
   ]
  },
  {
   "cell_type": "markdown",
   "metadata": {
    "id": "iky9q4vBYrdO"
   },
   "source": [
    "##### 1. Why did you pick the specific chart?"
   ]
  },
  {
   "cell_type": "markdown",
   "metadata": {
    "id": "aJRCwT6DYrdO"
   },
   "source": [
    "A histogram with KDE gives a good idea of how response times vary, and whether there are any outliers or skew in the data."
   ]
  },
  {
   "cell_type": "markdown",
   "metadata": {
    "id": "F6T5p64dYrdO"
   },
   "source": [
    "##### 2. What is/are the insight(s) found from the chart?"
   ]
  },
  {
   "cell_type": "markdown",
   "metadata": {
    "id": "Xx8WAJvtYrdO"
   },
   "source": [
    "Most tickets are responded to within a short window, but there are some extreme delays, suggesting possible SLA breaches or escalations."
   ]
  },
  {
   "cell_type": "markdown",
   "metadata": {
    "id": "y-Ehk30pYrdP"
   },
   "source": [
    "3. Will the gained insights help creating a positive business impact?\n",
    "Are there any insights that lead to negative growth? Justify with specific reason."
   ]
  },
  {
   "cell_type": "markdown",
   "metadata": {
    "id": "jLNxxz7MYrdP"
   },
   "source": [
    "Yes. Identifying delayed responses can help refine staffing and shift allocation. Long delays are directly linked to poor customer experience and could affect CSAT."
   ]
  },
  {
   "cell_type": "markdown",
   "metadata": {
    "id": "bamQiAODYuh1"
   },
   "source": [
    "#### Chart - 5"
   ]
  },
  {
   "cell_type": "code",
   "execution_count": 18,
   "metadata": {
    "id": "TIJwrbroYuh3"
   },
   "outputs": [
    {
     "data": {
      "image/png": "[encoded data removed]",
      "text/plain": [
       "<Figure size 640x480 with 1 Axes>"
      ]
     },
     "metadata": {},
     "output_type": "display_data"
    }
   ],
   "source": [
    "# Chart - 5 visualization code : CSAT by Shift\n",
    "sns.boxplot(x='Agent Shift', y='CSAT Score', data=df, palette='coolwarm')\n",
    "plt.title(\"CSAT Scores by Agent Shift\")\n",
    "plt.show()\n"
   ]
  },
  {
   "cell_type": "markdown",
   "metadata": {
    "id": "QHF8YVU7Yuh3"
   },
   "source": [
    "##### 1. Why did you pick the specific chart?"
   ]
  },
  {
   "cell_type": "markdown",
   "metadata": {
    "id": "dcxuIMRPYuh3"
   },
   "source": [
    "A boxplot is helpful to compare score distributions across categories, such as shifts in this case."
   ]
  },
  {
   "cell_type": "markdown",
   "metadata": {
    "id": "GwzvFGzlYuh3"
   },
   "source": [
    "##### 2. What is/are the insight(s) found from the chart?"
   ]
  },
  {
   "cell_type": "markdown",
   "metadata": {
    "id": "uyqkiB8YYuh3"
   },
   "source": [
    "Both shifts seem to maintain decent CSAT scores, but the evening shift shows slightly more variability and a few low-performing cases."
   ]
  },
  {
   "cell_type": "markdown",
   "metadata": {
    "id": "qYpmQ266Yuh3"
   },
   "source": [
    "##### 3. Will the gained insights help creating a positive business impact?\n",
    "Are there any insights that lead to negative growth? Justify with specific reason."
   ]
  },
  {
   "cell_type": "markdown",
   "metadata": {
    "id": "_WtzZ_hCYuh4"
   },
   "source": [
    "Yes. If one shift consistently performs worse, managers can investigate possible causes — like training gaps or overload. This helps balance performance across shifts."
   ]
  },
  {
   "cell_type": "markdown",
   "metadata": {
    "id": "OH-pJp9IphqM"
   },
   "source": [
    "#### Chart - 6"
   ]
  },
  {
   "cell_type": "code",
   "execution_count": 19,
   "metadata": {
    "id": "kuRf4wtuphqN"
   },
   "outputs": [
    {
     "data": {
      "image/png": "[encoded data removed]",
      "text/plain": [
       "<Figure size 640x480 with 1 Axes>"
      ]
     },
     "metadata": {},
     "output_type": "display_data"
    }
   ],
   "source": [
    "# Chart - 6 visualization code : CSAT by Tenure\n",
    "sns.boxplot(x='Tenure Bucket', y='CSAT Score', data=df, palette='YlGnBu')\n",
    "plt.title(\"CSAT by Tenure Bucket\")\n",
    "plt.show()\n"
   ]
  },
  {
   "cell_type": "markdown",
   "metadata": {
    "id": "bbFf2-_FphqN"
   },
   "source": [
    "##### 1. Why did you pick the specific chart?"
   ]
  },
  {
   "cell_type": "markdown",
   "metadata": {
    "id": "loh7H2nzphqN"
   },
   "source": [
    "This boxplot allows us to visually compare how agent experience (tenure) affects CSAT ratings."
   ]
  },
  {
   "cell_type": "markdown",
   "metadata": {
    "id": "_ouA3fa0phqN"
   },
   "source": [
    "##### 2. What is/are the insight(s) found from the chart?"
   ]
  },
  {
   "cell_type": "markdown",
   "metadata": {
    "id": "VECbqPI7phqN"
   },
   "source": [
    "Agents with more experience (e.g., >90 days) generally receive slightly better CSAT scores, but there's still a good spread among newcomers too."
   ]
  },
  {
   "cell_type": "markdown",
   "metadata": {
    "id": "Seke61FWphqN"
   },
   "source": [
    "##### 3. Will the gained insights help creating a positive business impact?\n",
    "Are there any insights that lead to negative growth? Justify with specific reason."
   ]
  },
  {
   "cell_type": "markdown",
   "metadata": {
    "id": "DW4_bGpfphqN"
   },
   "source": [
    "Yes. It justifies investing in onboarding and mentorship programs for new hires. No negative impact, but ensuring newer agents match experienced performance can drive up consistency."
   ]
  },
  {
   "cell_type": "markdown",
   "metadata": {
    "id": "PIIx-8_IphqN"
   },
   "source": [
    "#### Chart - 7"
   ]
  },
  {
   "cell_type": "code",
   "execution_count": 20,
   "metadata": {
    "id": "lqAIGUfyphqO"
   },
   "outputs": [
    {
     "data": {
      "image/png": "[encoded data removed]",
      "text/plain": [
       "<Figure size 640x480 with 1 Axes>"
      ]
     },
     "metadata": {},
     "output_type": "display_data"
    }
   ],
   "source": [
    "# Chart - 7 visualization code : Channel vs CSAT\n",
    "sns.boxplot(x='channel_name', y='CSAT Score', data=df, palette='Set3')\n",
    "plt.title(\"CSAT by Channel\")\n",
    "plt.show()\n"
   ]
  },
  {
   "cell_type": "markdown",
   "metadata": {
    "id": "t27r6nlMphqO"
   },
   "source": [
    "##### 1. Why did you pick the specific chart?"
   ]
  },
  {
   "cell_type": "markdown",
   "metadata": {
    "id": "iv6ro40sphqO"
   },
   "source": [
    "Again, a boxplot is perfect to compare customer satisfaction across different communication channels (Inbound/Outcall, etc.)"
   ]
  },
  {
   "cell_type": "markdown",
   "metadata": {
    "id": "r2jJGEOYphqO"
   },
   "source": [
    "##### 2. What is/are the insight(s) found from the chart?"
   ]
  },
  {
   "cell_type": "markdown",
   "metadata": {
    "id": "Po6ZPi4hphqO"
   },
   "source": [
    "Inbound channels generally show higher CSAT, suggesting that customers prefer initiating support themselves rather than being contacted."
   ]
  },
  {
   "cell_type": "markdown",
   "metadata": {
    "id": "b0JNsNcRphqO"
   },
   "source": [
    "##### 3. Will the gained insights help creating a positive business impact?\n",
    "Are there any insights that lead to negative growth? Justify with specific reason."
   ]
  },
  {
   "cell_type": "markdown",
   "metadata": {
    "id": "xvSq8iUTphqO"
   },
   "source": [
    "Yes. This may encourage Flipkart to improve outbound communication or rely more on inbound support when solving issues. Poor outbound performance could lead to dissatisfaction if not addressed."
   ]
  },
  {
   "cell_type": "markdown",
   "metadata": {
    "id": "BZR9WyysphqO"
   },
   "source": [
    "#### Chart - 8"
   ]
  },
  {
   "cell_type": "code",
   "execution_count": 21,
   "metadata": {
    "id": "TdPTWpAVphqO"
   },
   "outputs": [
    {
     "data": {
      "image/png": "[encoded data removed]",
      "text/plain": [
       "<Figure size 640x480 with 1 Axes>"
      ]
     },
     "metadata": {},
     "output_type": "display_data"
    }
   ],
   "source": [
    "# Chart - 8 visualization code : Item Price Distribution\n",
    "sns.histplot(df['Item_price'], bins=30, kde=True, color='skyblue')\n",
    "plt.title(\"Item Price Distribution\")\n",
    "plt.show()\n"
   ]
  },
  {
   "cell_type": "markdown",
   "metadata": {
    "id": "jj7wYXLtphqO"
   },
   "source": [
    "##### 1. Why did you pick the specific chart?"
   ]
  },
  {
   "cell_type": "markdown",
   "metadata": {
    "id": "Ob8u6rCTphqO"
   },
   "source": [
    "A histogram with KDE helps visualize the price distribution and whether high-value items affect support behavior."
   ]
  },
  {
   "cell_type": "markdown",
   "metadata": {
    "id": "eZrbJ2SmphqO"
   },
   "source": [
    "##### 2. What is/are the insight(s) found from the chart?"
   ]
  },
  {
   "cell_type": "markdown",
   "metadata": {
    "id": "mZtgC_hjphqO"
   },
   "source": [
    "A histogram with KDE helps visualize the price distribution and whether high-value items affect support behavior."
   ]
  },
  {
   "cell_type": "markdown",
   "metadata": {
    "id": "rFu4xreNphqO"
   },
   "source": [
    "##### 3. Will the gained insights help creating a positive business impact?\n",
    "Are there any insights that lead to negative growth? Justify with specific reason."
   ]
  },
  {
   "cell_type": "markdown",
   "metadata": {
    "id": "ey_0qi68phqO"
   },
   "source": [
    "Yes. High-priced items may demand better after-sale service. Ensuring white-glove support for such products could enhance loyalty and reduce negative reviews."
   ]
  },
  {
   "cell_type": "markdown",
   "metadata": {
    "id": "YJ55k-q6phqO"
   },
   "source": [
    "#### Chart - 9"
   ]
  },
  {
   "cell_type": "code",
   "execution_count": 22,
   "metadata": {
    "id": "B2aS4O1ophqO"
   },
   "outputs": [
    {
     "data": {
      "image/png": "[encoded data removed]",
      "text/plain": [
       "<Figure size 640x480 with 1 Axes>"
      ]
     },
     "metadata": {},
     "output_type": "display_data"
    }
   ],
   "source": [
    "# Chart - 9 visualization code :Top 10 Cities\n",
    "top_cities = df['Customer_City'].value_counts().nlargest(10)\n",
    "sns.barplot(x=top_cities.values, y=top_cities.index, palette='pastel')\n",
    "plt.title(\"Top 10 Cities by Ticket Volume\")\n",
    "plt.show()\n"
   ]
  },
  {
   "cell_type": "markdown",
   "metadata": {
    "id": "gCFgpxoyphqP"
   },
   "source": [
    "##### 1. Why did you pick the specific chart?"
   ]
  },
  {
   "cell_type": "markdown",
   "metadata": {
    "id": "TVxDimi2phqP"
   },
   "source": [
    "This horizontal bar chart allows easy readability of the top cities where most tickets are raised."
   ]
  },
  {
   "cell_type": "markdown",
   "metadata": {
    "id": "OVtJsKN_phqQ"
   },
   "source": [
    "##### 2. What is/are the insight(s) found from the chart?"
   ]
  },
  {
   "cell_type": "markdown",
   "metadata": {
    "id": "ngGi97qjphqQ"
   },
   "source": [
    "Major metro cities have the highest number of complaints — likely due to higher order volumes."
   ]
  },
  {
   "cell_type": "markdown",
   "metadata": {
    "id": "lssrdh5qphqQ"
   },
   "source": [
    "##### 3. Will the gained insights help creating a positive business impact?\n",
    "Are there any insights that lead to negative growth? Justify with specific reason."
   ]
  },
  {
   "cell_type": "markdown",
   "metadata": {
    "id": "tBpY5ekJphqQ"
   },
   "source": [
    "Yes. Localizing support strategy, regional language assistance, and city-specific service SLAs could improve efficiency and CSAT scores."
   ]
  },
  {
   "cell_type": "markdown",
   "metadata": {
    "id": "U2RJ9gkRphqQ"
   },
   "source": [
    "#### Chart - 10"
   ]
  },
  {
   "cell_type": "code",
   "execution_count": 23,
   "metadata": {
    "id": "GM7a4YP4phqQ"
   },
   "outputs": [
    {
     "data": {
      "image/png": "[encoded data removed]",
      "text/plain": [
       "<Figure size 640x480 with 1 Axes>"
      ]
     },
     "metadata": {},
     "output_type": "display_data"
    }
   ],
   "source": [
    "# Chart - 10 visualization code: Average CSAT by Category\n",
    "avg_csat = df.groupby('category')['CSAT Score'].mean().sort_values()\n",
    "sns.barplot(x=avg_csat.values, y=avg_csat.index, palette='plasma')\n",
    "plt.title(\"Avg CSAT by Category\")\n",
    "plt.show()\n"
   ]
  },
  {
   "cell_type": "markdown",
   "metadata": {
    "id": "1M8mcRywphqQ"
   },
   "source": [
    "##### 1. Why did you pick the specific chart?"
   ]
  },
  {
   "cell_type": "markdown",
   "metadata": {
    "id": "8agQvks0phqQ"
   },
   "source": [
    "A bar chart helps compare numeric performance (CSAT) across different categories in a simple way."
   ]
  },
  {
   "cell_type": "markdown",
   "metadata": {
    "id": "tgIPom80phqQ"
   },
   "source": [
    "##### 2. What is/are the insight(s) found from the chart?"
   ]
  },
  {
   "cell_type": "markdown",
   "metadata": {
    "id": "Qp13pnNzphqQ"
   },
   "source": [
    "Some categories like “Returns” or “Technical Issue” tend to have slightly lower average CSAT than others like “Order Related”."
   ]
  },
  {
   "cell_type": "markdown",
   "metadata": {
    "id": "JMzcOPDDphqR"
   },
   "source": [
    "##### 3. Will the gained insights help creating a positive business impact?\n",
    "Are there any insights that lead to negative growth? Justify with specific reason."
   ]
  },
  {
   "cell_type": "markdown",
   "metadata": {
    "id": "R4Ka1PC2phqR"
   },
   "source": [
    "Yes. These categories need special attention — maybe better return policies or agent training. Improving here can directly boost overall satisfaction."
   ]
  },
  {
   "cell_type": "markdown",
   "metadata": {
    "id": "x-EpHcCOp1ci"
   },
   "source": [
    "#### Chart - 11"
   ]
  },
  {
   "cell_type": "code",
   "execution_count": 24,
   "metadata": {
    "id": "mAQTIvtqp1cj"
   },
   "outputs": [
    {
     "data": {
      "image/png": "[encoded data removed]",
      "text/plain": [
       "<Figure size 640x480 with 1 Axes>"
      ]
     },
     "metadata": {},
     "output_type": "display_data"
    }
   ],
   "source": [
    "# Chart - 11 visualization code : Top 10 Agents by CSAT\n",
    "top_agents = df.groupby('Agent_name')['CSAT Score'].mean().sort_values(ascending=False).head(10)\n",
    "sns.barplot(x=top_agents.values, y=top_agents.index, palette='flare')\n",
    "plt.title(\"Top 10 Agents by Avg CSAT\")\n",
    "plt.show()\n"
   ]
  },
  {
   "cell_type": "markdown",
   "metadata": {
    "id": "X_VqEhTip1ck"
   },
   "source": [
    "##### 1. Why did you pick the specific chart?"
   ]
  },
  {
   "cell_type": "markdown",
   "metadata": {
    "id": "-vsMzt_np1ck"
   },
   "source": [
    "It gives a direct view of the best-performing agents based on customer feedback."
   ]
  },
  {
   "cell_type": "markdown",
   "metadata": {
    "id": "8zGJKyg5p1ck"
   },
   "source": [
    "##### 2. What is/are the insight(s) found from the chart?"
   ]
  },
  {
   "cell_type": "markdown",
   "metadata": {
    "id": "ZYdMsrqVp1ck"
   },
   "source": [
    "There’s a clear difference in agent performance. Some agents consistently score above 4.8 while others may not."
   ]
  },
  {
   "cell_type": "markdown",
   "metadata": {
    "id": "PVzmfK_Ep1ck"
   },
   "source": [
    "##### 3. Will the gained insights help creating a positive business impact?\n",
    "Are there any insights that lead to negative growth? Justify with specific reason."
   ]
  },
  {
   "cell_type": "markdown",
   "metadata": {
    "id": "druuKYZpp1ck"
   },
   "source": [
    "Yes. These top agents could be rewarded or used for training others. This boosts team morale and service quality."
   ]
  },
  {
   "cell_type": "markdown",
   "metadata": {
    "id": "n3dbpmDWp1ck"
   },
   "source": [
    "#### Chart - 12"
   ]
  },
  {
   "cell_type": "code",
   "execution_count": 25,
   "metadata": {
    "id": "bwevp1tKp1ck"
   },
   "outputs": [
    {
     "data": {
      "image/png": "[encoded data removed]",
      "text/plain": [
       "<Figure size 640x480 with 1 Axes>"
      ]
     },
     "metadata": {},
     "output_type": "display_data"
    }
   ],
   "source": [
    "# Chart - 12 visualization code : Ticket Volume by Tenure Bucket\n",
    "sns.countplot(x='Tenure Bucket', data=df, palette='cool')\n",
    "plt.title(\"Ticket Count per Tenure Bucket\")\n",
    "plt.show()\n"
   ]
  },
  {
   "cell_type": "markdown",
   "metadata": {
    "id": "ylSl6qgtp1ck"
   },
   "source": [
    "##### 1. Why did you pick the specific chart?"
   ]
  },
  {
   "cell_type": "markdown",
   "metadata": {
    "id": "m2xqNkiQp1ck"
   },
   "source": [
    "To understand how workload is distributed based on agent experience."
   ]
  },
  {
   "cell_type": "markdown",
   "metadata": {
    "id": "ZWILFDl5p1ck"
   },
   "source": [
    "##### 2. What is/are the insight(s) found from the chart?"
   ]
  },
  {
   "cell_type": "markdown",
   "metadata": {
    "id": "x-lUsV2mp1ck"
   },
   "source": [
    "Agents with mid-level experience seem to handle the most tickets, while newcomers handle fewer."
   ]
  },
  {
   "cell_type": "markdown",
   "metadata": {
    "id": "M7G43BXep1ck"
   },
   "source": [
    "##### 3. Will the gained insights help creating a positive business impact?\n",
    "Are there any insights that lead to negative growth? Justify with specific reason."
   ]
  },
  {
   "cell_type": "markdown",
   "metadata": {
    "id": "5wwDJXsLp1cl"
   },
   "source": [
    "Yes. It may indicate that newer agents need more ramp-up time. Ensuring fair load balancing can prevent burnout and ensure quality."
   ]
  },
  {
   "cell_type": "markdown",
   "metadata": {
    "id": "Ag9LCva-p1cl"
   },
   "source": [
    "#### Chart - 13"
   ]
  },
  {
   "cell_type": "code",
   "execution_count": 26,
   "metadata": {
    "id": "EUfxeq9-p1cl"
   },
   "outputs": [
    {
     "data": {
      "image/png": "[encoded data removed]",
      "text/plain": [
       "<Figure size 640x480 with 1 Axes>"
      ]
     },
     "metadata": {},
     "output_type": "display_data"
    }
   ],
   "source": [
    "# Chart - 13 visualization code : Tickets by Agent Shift\n",
    "sns.countplot(x='Agent Shift', data=df, palette='autumn')\n",
    "plt.title(\"Tickets by Shift\")\n",
    "plt.show()\n"
   ]
  },
  {
   "cell_type": "markdown",
   "metadata": {
    "id": "E6MkPsBcp1cl"
   },
   "source": [
    "##### 1. Why did you pick the specific chart?"
   ]
  },
  {
   "cell_type": "markdown",
   "metadata": {
    "id": "V22bRsFWp1cl"
   },
   "source": [
    "This helps understand if workload distribution is equal across shifts."
   ]
  },
  {
   "cell_type": "markdown",
   "metadata": {
    "id": "2cELzS2fp1cl"
   },
   "source": [
    "##### 2. What is/are the insight(s) found from the chart?"
   ]
  },
  {
   "cell_type": "markdown",
   "metadata": {
    "id": "ozQPc2_Ip1cl"
   },
   "source": [
    "The morning shift seems to handle slightly more tickets than the evening shift."
   ]
  },
  {
   "cell_type": "markdown",
   "metadata": {
    "id": "3MPXvC8up1cl"
   },
   "source": [
    "##### 3. Will the gained insights help creating a positive business impact?\n",
    "Are there any insights that lead to negative growth? Justify with specific reason."
   ]
  },
  {
   "cell_type": "markdown",
   "metadata": {
    "id": "GL8l1tdLp1cl"
   },
   "source": [
    "Yes. Ensuring even distribution across shifts could help balance stress, response times, and improve overall performance."
   ]
  },
  {
   "cell_type": "markdown",
   "metadata": {
    "id": "NC_X3p0fY2L0"
   },
   "source": [
    "#### Chart - 14 - Correlation Heatmap"
   ]
  },
  {
   "cell_type": "code",
   "execution_count": 27,
   "metadata": {
    "id": "xyC9zolEZNRQ"
   },
   "outputs": [
    {
     "data": {
      "image/png": "[encoded data removed]",
      "text/plain": [
       "<Figure size 640x480 with 2 Axes>"
      ]
     },
     "metadata": {},
     "output_type": "display_data"
    }
   ],
   "source": [
    "# Correlation Heatmap visualization code \n",
    "sns.heatmap(df[['Item_price', 'connected_handling_time', 'CSAT Score', 'response_time_minutes']].corr(), \n",
    "            annot=True, cmap='coolwarm')\n",
    "plt.title(\"Correlation Heatmap\")\n",
    "plt.show()\n"
   ]
  },
  {
   "cell_type": "markdown",
   "metadata": {
    "id": "UV0SzAkaZNRQ"
   },
   "source": [
    "##### 1. Why did you pick the specific chart?"
   ]
  },
  {
   "cell_type": "markdown",
   "metadata": {
    "id": "DVPuT8LYZNRQ"
   },
   "source": [
    "A correlation heatmap is a good visual summary of how numeric features relate to one another."
   ]
  },
  {
   "cell_type": "markdown",
   "metadata": {
    "id": "YPEH6qLeZNRQ"
   },
   "source": [
    "##### 2. What is/are the insight(s) found from the chart?"
   ]
  },
  {
   "cell_type": "markdown",
   "metadata": {
    "id": "bfSqtnDqZNRR"
   },
   "source": [
    "There’s weak correlation between Item_price and CSAT, meaning product value doesn’t influence satisfaction directly. Response time and connected handling time also show weak correlation with CSAT."
   ]
  },
  {
   "cell_type": "markdown",
   "metadata": {
    "id": "q29F0dvdveiT"
   },
   "source": [
    "#### Chart - 15 - Pair Plot"
   ]
  },
  {
   "cell_type": "code",
   "execution_count": 28,
   "metadata": {
    "id": "o58-TEIhveiU"
   },
   "outputs": [
    {
     "data": {
      "image/png": "[encoded data removed]",
      "text/plain": [
       "<Figure size 750x750 with 12 Axes>"
      ]
     },
     "metadata": {},
     "output_type": "display_data"
    }
   ],
   "source": [
    "# Pair Plot visualization code\n",
    "sns.pairplot(df[['Item_price', 'connected_handling_time', 'CSAT Score']].dropna())\n",
    "plt.suptitle(\"Pair Plot of Numerical Features\", y=1.02)\n",
    "plt.show()\n"
   ]
  },
  {
   "cell_type": "markdown",
   "metadata": {
    "id": "EXh0U9oCveiU"
   },
   "source": [
    "##### 1. Why did you pick the specific chart?"
   ]
  },
  {
   "cell_type": "markdown",
   "metadata": {
    "id": "eMmPjTByveiU"
   },
   "source": [
    "It’s useful to see relationships, patterns, or clusters between numerical variables in multiple combinations."
   ]
  },
  {
   "cell_type": "markdown",
   "metadata": {
    "id": "22aHeOlLveiV"
   },
   "source": [
    "##### 2. What is/are the insight(s) found from the chart?"
   ]
  },
  {
   "cell_type": "markdown",
   "metadata": {
    "id": "uPQ8RGwHveiV"
   },
   "source": [
    "There’s no strong visible linear relationship between Item_price, CSAT, and connected_handling_time, but some dense areas suggest common behavioral clusters."
   ]
  },
  {
   "cell_type": "markdown",
   "metadata": {
    "id": "g-ATYxFrGrvw"
   },
   "source": [
    "## ***5. Hypothesis Testing***"
   ]
  },
  {
   "cell_type": "markdown",
   "metadata": {
    "id": "Yfr_Vlr8HBkt"
   },
   "source": [
    "### Based on your chart experiments, define three hypothetical statements from the dataset. In the next three questions, perform hypothesis testing to obtain final conclusion about the statements through your code and statistical testing."
   ]
  },
  {
   "cell_type": "markdown",
   "metadata": {
    "id": "-7MS06SUHkB-"
   },
   "source": [
    "Hypothesis testing helps validate assumptions and make data-driven decisions. Here, I tested 3 hypotheses relevant to customer support performance and satisfaction.\n"
   ]
  },
  {
   "cell_type": "markdown",
   "metadata": {
    "id": "8yEUt7NnHlrM"
   },
   "source": [
    "### Hypothetical Statement - 1"
   ]
  },
  {
   "cell_type": "markdown",
   "metadata": {
    "id": "tEA2Xm5dHt1r"
   },
   "source": [
    "#### 1. State Your research hypothesis as a null hypothesis and alternate hypothesis."
   ]
  },
  {
   "cell_type": "markdown",
   "metadata": {
    "id": "HI9ZP0laH0D-"
   },
   "source": [
    "* Hypothetical Statement 1 :\n",
    "Does the agent’s shift (Morning vs Evening) affect CSAT Score?\n",
    "\n",
    "* Null and Alternate Hypotheses :\n",
    "    -> Null Hypothesis (H₀): There is no significant difference in CSAT scores between Morning and Evening shifts.\n",
    "    -> Alternate Hypothesis (H₁): There is a significant difference in CSAT scores between Morning and Evening shifts."
   ]
  },
  {
   "cell_type": "markdown",
   "metadata": {
    "id": "I79__PHVH19G"
   },
   "source": [
    "#### 2. Perform an appropriate statistical test."
   ]
  },
  {
   "cell_type": "code",
   "execution_count": 29,
   "metadata": {
    "id": "oZrfquKtyian"
   },
   "outputs": [
    {
     "name": "stdout",
     "output_type": "stream",
     "text": [
      "P-value: 1.5180343953890737e-17\n"
     ]
    }
   ],
   "source": [
    "# Perform Statistical Test to obtain P-Value\n",
    "# Statistical Test Code (Independent t-test)\n",
    "from scipy.stats import ttest_ind\n",
    "\n",
    "# Create two groups: Morning and Evening\n",
    "morning_shift = df[df['Agent Shift'] == 'Morning']['CSAT Score']\n",
    "evening_shift = df[df['Agent Shift'] == 'Evening']['CSAT Score']\n",
    "\n",
    "# Perform t-test\n",
    "t_stat, p_val = ttest_ind(morning_shift, evening_shift, nan_policy='omit')\n",
    "\n",
    "print(\"P-value:\", p_val)\n"
   ]
  },
  {
   "cell_type": "markdown",
   "metadata": {
    "id": "Ou-I18pAyIpj"
   },
   "source": [
    "##### Which statistical test have you done to obtain P-Value?"
   ]
  },
  {
   "cell_type": "markdown",
   "metadata": {
    "id": "s2U0kk00ygSB"
   },
   "source": [
    "An independent t-test."
   ]
  },
  {
   "cell_type": "markdown",
   "metadata": {
    "id": "fF3858GYyt-u"
   },
   "source": [
    "##### Why did you choose the specific statistical test?"
   ]
  },
  {
   "cell_type": "markdown",
   "metadata": {
    "id": "HO4K0gP5y3B4"
   },
   "source": [
    "Because we are comparing the means of a numeric variable (CSAT Score) across two independent groups (shifts)."
   ]
  },
  {
   "cell_type": "markdown",
   "metadata": {
    "id": "4_0_7-oCpUZd"
   },
   "source": [
    "### Hypothetical Statement - 2"
   ]
  },
  {
   "cell_type": "markdown",
   "metadata": {
    "id": "hwyV_J3ipUZe"
   },
   "source": [
    "#### 1. State Your research hypothesis as a null hypothesis and alternate hypothesis."
   ]
  },
  {
   "cell_type": "markdown",
   "metadata": {
    "id": "FnpLGJ-4pUZe"
   },
   "source": [
    "* Hypothetical Statement 2 :\n",
    "Do customers with higher-priced items give better CSAT scores?\n",
    "\n",
    "* Null and Alternate Hypotheses\n",
    "    -> Null Hypothesis (H₀): There is no correlation between Item Price and CSAT Score.\n",
    "    -> Alternate Hypothesis (H₁): There is a significant correlation between Item Price and CSAT Score."
   ]
  },
  {
   "cell_type": "markdown",
   "metadata": {
    "id": "3yB-zSqbpUZe"
   },
   "source": [
    "#### 2. Perform an appropriate statistical test."
   ]
  },
  {
   "cell_type": "code",
   "execution_count": 30,
   "metadata": {
    "id": "sWxdNTXNpUZe"
   },
   "outputs": [
    {
     "name": "stdout",
     "output_type": "stream",
     "text": [
      "P-value: 8.635083149697588e-158\n"
     ]
    }
   ],
   "source": [
    "# Perform Statistical Test to obtain P-Value\n",
    "# Statistical Test Code (Pearson Correlation)\n",
    "from scipy.stats import pearsonr\n",
    "\n",
    "# Pearson correlation between item price and CSAT score\n",
    "corr_coef, p_val = pearsonr(df['Item_price'], df['CSAT Score'])\n",
    "\n",
    "print(\"P-value:\", p_val)\n"
   ]
  },
  {
   "cell_type": "markdown",
   "metadata": {
    "id": "dEUvejAfpUZe"
   },
   "source": [
    "##### Which statistical test have you done to obtain P-Value?"
   ]
  },
  {
   "cell_type": "markdown",
   "metadata": {
    "id": "oLDrPz7HpUZf"
   },
   "source": [
    "Pearson Correlation Test"
   ]
  },
  {
   "cell_type": "markdown",
   "metadata": {
    "id": "Fd15vwWVpUZf"
   },
   "source": [
    "##### Why did you choose the specific statistical test?"
   ]
  },
  {
   "cell_type": "markdown",
   "metadata": {
    "id": "4xOGYyiBpUZf"
   },
   "source": [
    "Because we are checking the linear correlation between two continuous numeric variables — Item_price and CSAT Score ."
   ]
  },
  {
   "cell_type": "markdown",
   "metadata": {
    "id": "bn_IUdTipZyH"
   },
   "source": [
    "### Hypothetical Statement - 3"
   ]
  },
  {
   "cell_type": "markdown",
   "metadata": {
    "id": "49K5P_iCpZyH"
   },
   "source": [
    "#### 1. State Your research hypothesis as a null hypothesis and alternate hypothesis."
   ]
  },
  {
   "cell_type": "markdown",
   "metadata": {
    "id": "7gWI5rT9pZyH"
   },
   "source": [
    "* Hypothetical Statement 3 :\n",
    "Do customers raise more complaints in one category (e.g., \"Returns\") than others?\n",
    "\n",
    "* Null and Alternate Hypotheses :\n",
    "    -> Null Hypothesis (H₀): All support categories have the same number of complaints (uniform distribution).\n",
    "    -> Alternate Hypothesis (H₁): At least one category has a significantly different complaint count."
   ]
  },
  {
   "cell_type": "markdown",
   "metadata": {
    "id": "Nff-vKELpZyI"
   },
   "source": [
    "#### 2. Perform an appropriate statistical test."
   ]
  },
  {
   "cell_type": "code",
   "execution_count": 31,
   "metadata": {
    "id": "s6AnJQjtpZyI"
   },
   "outputs": [
    {
     "name": "stdout",
     "output_type": "stream",
     "text": [
      "P-value: 0.0\n"
     ]
    }
   ],
   "source": [
    "# Perform Statistical Test to obtain P-Value\n",
    "# Statistical Test Code (Chi-Square Goodness of Fit Test)\n",
    "from scipy.stats import chisquare\n",
    "\n",
    "# Count frequency of each category\n",
    "category_counts = df['category'].value_counts()\n",
    "expected = [category_counts.mean()] * len(category_counts)\n",
    "\n",
    "# Chi-square goodness-of-fit test\n",
    "chi_stat, p_val = chisquare(f_obs=category_counts.values, f_exp=expected)\n",
    "\n",
    "print(\"P-value:\", p_val)\n"
   ]
  },
  {
   "cell_type": "markdown",
   "metadata": {
    "id": "kLW572S8pZyI"
   },
   "source": [
    "##### Which statistical test have you done to obtain P-Value?"
   ]
  },
  {
   "cell_type": "markdown",
   "metadata": {
    "id": "ytWJ8v15pZyI"
   },
   "source": [
    "Chi-Square Goodness of Fit Test"
   ]
  },
  {
   "cell_type": "markdown",
   "metadata": {
    "id": "dWbDXHzopZyI"
   },
   "source": [
    "##### Why did you choose the specific statistical test?"
   ]
  },
  {
   "cell_type": "markdown",
   "metadata": {
    "id": "M99G98V6pZyI"
   },
   "source": [
    "This test is ideal when comparing observed frequencies (complaints per category) with expected frequencies under the assumption of equal distribution."
   ]
  },
  {
   "cell_type": "markdown",
   "metadata": {
    "id": "yLjJCtPM0KBk"
   },
   "source": [
    "## ***6. Feature Engineering & Data Pre-processing***"
   ]
  },
  {
   "cell_type": "markdown",
   "metadata": {
    "id": "xiyOF9F70UgQ"
   },
   "source": [
    "### 1. Handling Missing Values"
   ]
  },
  {
   "cell_type": "code",
   "execution_count": 32,
   "metadata": {
    "id": "iRsAHk1K0fpS"
   },
   "outputs": [],
   "source": [
    "# Handling Missing Values & Missing Value Imputation\n",
    "# Fill missing text fields\n",
    "df['Customer Remarks'].fillna(\"Unknown\", inplace=True)\n",
    "df['Customer_City'].fillna(\"Unknown\", inplace=True)\n",
    "df['Product_category'].fillna(\"Unknown\", inplace=True)\n",
    "\n",
    "# Fill missing numeric fields with median\n",
    "df['Item_price'].fillna(df['Item_price'].median(), inplace=True)\n",
    "df['connected_handling_time'].fillna(df['connected_handling_time'].median(), inplace=True)\n"
   ]
  },
  {
   "cell_type": "markdown",
   "metadata": {
    "id": "7wuGOrhz0itI"
   },
   "source": [
    "#### What all missing value imputation techniques have you used and why did you use those techniques?"
   ]
  },
  {
   "cell_type": "markdown",
   "metadata": {
    "id": "1ixusLtI0pqI"
   },
   "source": [
    "To handle missing data, I used \"Unknown\" for missing text/categorical fields like Customer Remarks and Customer_City. For numeric fields like Item_price and connected_handling_time, I chose median imputation because it’s less sensitive to extreme values compared to the mean."
   ]
  },
  {
   "cell_type": "markdown",
   "metadata": {
    "id": "id1riN9m0vUs"
   },
   "source": [
    "### 2. Handling Outliers"
   ]
  },
  {
   "cell_type": "code",
   "execution_count": 33,
   "metadata": {
    "id": "M6w2CzZf04JK"
   },
   "outputs": [],
   "source": [
    "# Handling Outliers & Outlier treatments\n",
    "# IQR-based outlier removal function\n",
    "def remove_outliers_iqr(df, column):\n",
    "    Q1 = df[column].quantile(0.25)\n",
    "    Q3 = df[column].quantile(0.75)\n",
    "    IQR = Q3 - Q1\n",
    "    lower = Q1 - 1.5 * IQR\n",
    "    upper = Q3 + 1.5 * IQR\n",
    "    return df[(df[column] >= lower) & (df[column] <= upper)]\n",
    "\n",
    "# Apply on numeric columns\n",
    "df = remove_outliers_iqr(df, 'Item_price')\n",
    "df = remove_outliers_iqr(df, 'connected_handling_time')\n"
   ]
  },
  {
   "cell_type": "markdown",
   "metadata": {
    "id": "578E2V7j08f6"
   },
   "source": [
    "##### What all outlier treatment techniques have you used and why did you use those techniques?"
   ]
  },
  {
   "cell_type": "markdown",
   "metadata": {
    "id": "uGZz5OrT1HH-"
   },
   "source": [
    "I used the IQR method to remove outliers in columns like Item_price and connected_handling_time. It’s a simple and effective way to eliminate values that fall outside the normal range, especially when the data isn’t normally distributed."
   ]
  },
  {
   "cell_type": "markdown",
   "metadata": {
    "id": "89xtkJwZ18nB"
   },
   "source": [
    "### 3. Categorical Encoding"
   ]
  },
  {
   "cell_type": "code",
   "execution_count": 34,
   "metadata": {
    "id": "21JmIYMG2hEo"
   },
   "outputs": [],
   "source": [
    "# Encode your categorical columns\n",
    "from sklearn.preprocessing import LabelEncoder\n",
    "\n",
    "# Label Encoding for ordinal features\n",
    "label_cols = ['Agent Shift', 'Tenure Bucket']\n",
    "le = LabelEncoder()\n",
    "for col in label_cols:\n",
    "    df[col] = le.fit_transform(df[col])\n",
    "\n",
    "# One-Hot Encoding for nominal features\n",
    "df = pd.get_dummies(df, columns=['channel_name', 'Product_category'], drop_first=True)\n"
   ]
  },
  {
   "cell_type": "markdown",
   "metadata": {
    "id": "67NQN5KX2AMe"
   },
   "source": [
    "#### What all categorical encoding techniques have you used & why did you use those techniques?"
   ]
  },
  {
   "cell_type": "markdown",
   "metadata": {
    "id": "UDaue5h32n_G"
   },
   "source": [
    "I used Label Encoding for ordinal variables like Tenure Bucket and Agent Shift where the order matters. For nominal features like channel_name and Product_category, I used One-Hot Encoding to convert them into binary vectors. This helps models handle categorical data without assuming any rank."
   ]
  },
  {
   "cell_type": "markdown",
   "metadata": {
    "id": "Iwf50b-R2tYG"
   },
   "source": [
    "### 4. Textual Data Preprocessing\n",
    "(It's mandatory for textual dataset i.e., NLP, Sentiment Analysis, Text Clustering etc.)"
   ]
  },
  {
   "cell_type": "markdown",
   "metadata": {
    "id": "GMQiZwjn3iu7"
   },
   "source": [
    "#### 1. Expand Contraction"
   ]
  },
  {
   "cell_type": "code",
   "execution_count": 35,
   "metadata": {
    "id": "PTouz10C3oNN"
   },
   "outputs": [],
   "source": [
    "# Expand Contraction\n",
    "contractions = {\"can't\": \"cannot\", \"won't\": \"will not\", \"n't\": \" not\", \"'re\": \" are\", \"'s\": \" is\"}\n",
    "def expand_contractions(text):\n",
    "    for key, val in contractions.items():\n",
    "        text = text.replace(key, val)\n",
    "    return text\n"
   ]
  },
  {
   "cell_type": "markdown",
   "metadata": {
    "id": "WVIkgGqN3qsr"
   },
   "source": [
    "#### 2. Lower Casing"
   ]
  },
  {
   "cell_type": "code",
   "execution_count": 36,
   "metadata": {
    "id": "88JnJ1jN3w7j"
   },
   "outputs": [],
   "source": [
    "# Lower Casing\n",
    "def lowercase(text):\n",
    "    return text.lower()"
   ]
  },
  {
   "cell_type": "markdown",
   "metadata": {
    "id": "XkPnILGE3zoT"
   },
   "source": [
    "#### 3. Removing Punctuations"
   ]
  },
  {
   "cell_type": "code",
   "execution_count": 37,
   "metadata": {
    "id": "vqbBqNaA33c0"
   },
   "outputs": [],
   "source": [
    "# Remove Punctuations\n",
    "import string\n",
    "def remove_punctuation(text):\n",
    "    return text.translate(str.maketrans('', '', string.punctuation))"
   ]
  },
  {
   "cell_type": "markdown",
   "metadata": {
    "id": "Hlsf0x5436Go"
   },
   "source": [
    "#### 4. Removing URLs & Removing words and digits contain digits."
   ]
  },
  {
   "cell_type": "code",
   "execution_count": 38,
   "metadata": {
    "id": "2sxKgKxu4Ip3"
   },
   "outputs": [],
   "source": [
    "# Remove URLs & Remove words and digits contain digits\n",
    "import re\n",
    "def clean_urls_digits(text):\n",
    "    text = re.sub(r\"http\\S+|www\\S+|https\\S+\", '', text)\n",
    "    text = re.sub(r'\\w*\\d\\w*', '', text)\n",
    "    return text\n"
   ]
  },
  {
   "cell_type": "markdown",
   "metadata": {
    "id": "mT9DMSJo4nBL"
   },
   "source": [
    "#### 5. Removing Stopwords & Removing White spaces"
   ]
  },
  {
   "cell_type": "code",
   "execution_count": 39,
   "metadata": {
    "id": "T2LSJh154s8W"
   },
   "outputs": [],
   "source": [
    "# Remove Stopwords &  White spaces\n",
    "from nltk.corpus import stopwords\n",
    "from nltk.tokenize import word_tokenize\n",
    "stop_words = set(stopwords.words('english'))\n",
    "\n",
    "def remove_stopwords(text):\n",
    "    tokens = word_tokenize(text)\n",
    "    filtered = [w for w in tokens if w.lower() not in stop_words]\n",
    "    return ' '.join(filtered).strip()\n"
   ]
  },
  {
   "cell_type": "markdown",
   "metadata": {
    "id": "c49ITxTc407N"
   },
   "source": [
    "#### 6. Rephrase Text"
   ]
  },
  {
   "cell_type": "code",
   "execution_count": 40,
   "metadata": {
    "id": "foqY80Qu48N2"
   },
   "outputs": [],
   "source": [
    "# Rephrase Text\n",
    "# Not implemented here manually. In real-world scenarios, this involves GPT-style transformers or paraphrasing APIs"
   ]
  },
  {
   "cell_type": "markdown",
   "metadata": {
    "id": "OeJFEK0N496M"
   },
   "source": [
    "#### 7. Tokenization"
   ]
  },
  {
   "cell_type": "code",
   "execution_count": 41,
   "metadata": {
    "id": "ijx1rUOS5CUU"
   },
   "outputs": [],
   "source": [
    "# Tokenization\n",
    "df['tokens'] = df['Customer Remarks'].apply(word_tokenize)\n"
   ]
  },
  {
   "cell_type": "markdown",
   "metadata": {
    "id": "9ExmJH0g5HBk"
   },
   "source": [
    "#### 8. Text Normalization"
   ]
  },
  {
   "cell_type": "code",
   "execution_count": 42,
   "metadata": {
    "id": "AIJ1a-Zc5PY8"
   },
   "outputs": [],
   "source": [
    "# Normalizing Text (i.e., Stemming, Lemmatization etc.)\n",
    "from nltk.stem import WordNetLemmatizer\n",
    "lemmatizer = WordNetLemmatizer()\n",
    "df['lemmatized'] = df['tokens'].apply(lambda tokens: [lemmatizer.lemmatize(word) for word in tokens])\n"
   ]
  },
  {
   "cell_type": "markdown",
   "metadata": {
    "id": "cJNqERVU536h"
   },
   "source": [
    "##### Which text normalization technique have you used and why?"
   ]
  },
  {
   "cell_type": "markdown",
   "metadata": {
    "id": "Z9jKVxE06BC1"
   },
   "source": [
    "I used lemmatization instead of stemming because it converts words to their base dictionary form (e.g., “running” → “run”) while preserving actual word meaning. This is especially useful when working on a customer-facing NLP task where language understanding matters."
   ]
  },
  {
   "cell_type": "markdown",
   "metadata": {
    "id": "k5UmGsbsOxih"
   },
   "source": [
    "#### 9. Part of speech tagging"
   ]
  },
  {
   "cell_type": "code",
   "execution_count": 43,
   "metadata": {
    "id": "btT3ZJBAO6Ik"
   },
   "outputs": [],
   "source": [
    "# POS Taging\n",
    "from nltk import pos_tag\n",
    "df['pos_tags'] = df['tokens'].apply(pos_tag)\n"
   ]
  },
  {
   "cell_type": "markdown",
   "metadata": {
    "id": "T0VqWOYE6DLQ"
   },
   "source": [
    "#### 10. Text Vectorization"
   ]
  },
  {
   "cell_type": "code",
   "execution_count": 44,
   "metadata": {
    "id": "yBRtdhth6JDE"
   },
   "outputs": [],
   "source": [
    "# Vectorizing Text\n",
    "from sklearn.feature_extraction.text import TfidfVectorizer\n",
    "\n",
    "tfidf = TfidfVectorizer(max_features=500)\n",
    "tfidf_matrix = tfidf.fit_transform(df['Customer Remarks'])\n",
    "\n",
    "# Convert to DataFrame\n",
    "tfidf_df = pd.DataFrame(tfidf_matrix.toarray(), columns=tfidf.get_feature_names_out())\n"
   ]
  },
  {
   "cell_type": "markdown",
   "metadata": {
    "id": "qBMux9mC6MCf"
   },
   "source": [
    "##### Which text vectorization technique have you used and why?"
   ]
  },
  {
   "cell_type": "markdown",
   "metadata": {
    "id": "su2EnbCh6UKQ"
   },
   "source": [
    "I used TF-IDF Vectorization because it gives weight to less frequent but more meaningful words in the dataset, unlike Bag of Words. This makes it more suitable for text classification and sentiment analysis tasks."
   ]
  },
  {
   "cell_type": "markdown",
   "metadata": {
    "id": "-oLEiFgy-5Pf"
   },
   "source": [
    "### 4. Feature Manipulation & Selection"
   ]
  },
  {
   "cell_type": "markdown",
   "metadata": {
    "id": "C74aWNz2AliB"
   },
   "source": [
    "#### 1. Feature Manipulation"
   ]
  },
  {
   "cell_type": "code",
   "execution_count": 45,
   "metadata": {
    "id": "h1qC4yhBApWC"
   },
   "outputs": [
    {
     "data": {
      "image/png": "[encoded data removed]",
      "text/plain": [
       "<Figure size 600x400 with 2 Axes>"
      ]
     },
     "metadata": {},
     "output_type": "display_data"
    }
   ],
   "source": [
    "# Manipulate Features to minimize feature correlation and create new features\n",
    "import seaborn as sns\n",
    "import matplotlib.pyplot as plt\n",
    "\n",
    "# Check correlations among numeric features\n",
    "corr_matrix = df[['Item_price', 'connected_handling_time', 'CSAT Score']].corr()\n",
    "\n",
    "# Visualize correlation\n",
    "plt.figure(figsize=(6, 4))\n",
    "sns.heatmap(corr_matrix, annot=True, cmap='coolwarm')\n",
    "plt.title(\"Correlation Matrix\")\n",
    "plt.show()\n",
    "\n",
    "# Create a new feature: price_per_minute (if both are valid)\n",
    "df['price_per_minute'] = df['Item_price'] / (df['connected_handling_time'] + 1)  # +1 to avoid division by zero\n",
    "\n",
    "# Optional: log-transform skewed features\n",
    "df['log_price'] = np.log1p(df['Item_price'])\n"
   ]
  },
  {
   "cell_type": "markdown",
   "metadata": {
    "id": "2DejudWSA-a0"
   },
   "source": [
    "#### 2. Feature Selection"
   ]
  },
  {
   "cell_type": "code",
   "execution_count": 47,
   "metadata": {
    "id": "YLhe8UmaBCEE"
   },
   "outputs": [
    {
     "name": "stdout",
     "output_type": "stream",
     "text": [
      "Selected Features: ['Item_price', 'connected_handling_time', 'Tenure Bucket', 'Agent Shift', 'response_time_minutes', 'price_per_minute', 'log_price']\n"
     ]
    }
   ],
   "source": [
    "from sklearn.feature_selection import SelectKBest, f_classif\n",
    "from sklearn.ensemble import RandomForestClassifier\n",
    "from sklearn.impute import SimpleImputer\n",
    "\n",
    "# Convert CSAT Score into binary (target variable)\n",
    "df['CSAT_binary'] = df['CSAT Score'].apply(lambda x: 1 if x >= 4 else 0)\n",
    "\n",
    "# Drop non-numeric or unneeded columns\n",
    "X = df.drop(columns=['CSAT Score', 'CSAT_binary', 'Customer Remarks', 'tokens', 'lemmatized', 'pos_tags'], errors='ignore')\n",
    "X = X.select_dtypes(include=[np.number])  # Only numeric columns\n",
    "\n",
    "y = df['CSAT_binary']\n",
    "\n",
    "# Impute any remaining NaN values in X\n",
    "imputer = SimpleImputer(strategy='median')\n",
    "X_imputed = pd.DataFrame(imputer.fit_transform(X), columns=X.columns)\n",
    "\n",
    "# Apply SelectKBest\n",
    "selector = SelectKBest(score_func=f_classif, k=10)\n",
    "selector.fit(X_imputed, y)\n",
    "\n",
    "# Get selected feature names\n",
    "selected_features = X.columns[selector.get_support()]\n",
    "print(\"Selected Features:\", selected_features.tolist())\n"
   ]
  },
  {
   "cell_type": "code",
   "execution_count": 49,
   "metadata": {},
   "outputs": [
    {
     "data": {
      "image/png": "[encoded data removed]",
      "text/plain": [
       "<Figure size 640x480 with 1 Axes>"
      ]
     },
     "metadata": {},
     "output_type": "display_data"
    }
   ],
   "source": [
    "# Feature Importance (using Random Forest)\n",
    "model = RandomForestClassifier(random_state=42)\n",
    "model.fit(X, y)\n",
    "\n",
    "importances = pd.Series(model.feature_importances_, index=X.columns)\n",
    "top_features = importances.sort_values(ascending=False).head(10)\n",
    "\n",
    "# Plot\n",
    "top_features.plot(kind='barh', title='Top 10 Important Features')\n",
    "plt.gca().invert_yaxis()\n",
    "plt.xlabel(\"Importance\")\n",
    "plt.show()\n"
   ]
  },
  {
   "cell_type": "markdown",
   "metadata": {
    "id": "pEMng2IbBLp7"
   },
   "source": [
    "##### What all feature selection methods have you used  and why?"
   ]
  },
  {
   "cell_type": "markdown",
   "metadata": {
    "id": "rb2Lh6Z8BgGs"
   },
   "source": [
    "(Feature Selection):\n",
    "* To avoid overfitting, I used two different feature selection techniques:\n",
    "    -> SelectKBest (ANOVA F-test): to pick the top 10 numeric features most correlated with CSAT Score (as binary classification).\n",
    "    -> Random Forest Feature Importance: to validate importance using a tree-based model that naturally ranks features.\n",
    "\n",
    "* feature selection methods I used:\n",
    "    -> Filter-based method (SelectKBest with ANOVA F-test) to quickly shortlist relevant features based on variance and correlation with the target variable.\n",
    "    -> Model-based method (Random Forest feature importance) because tree-based models help reveal non-linear relationships and feature interactions that simpler filters may miss.\n",
    "\n",
    "This combination ensured a strong, bias-free selection of informative features."
   ]
  },
  {
   "cell_type": "markdown",
   "metadata": {
    "id": "rAdphbQ9Bhjc"
   },
   "source": [
    "##### Which all features you found important and why?"
   ]
  },
  {
   "cell_type": "markdown",
   "metadata": {
    "id": "fGgaEstsBnaf"
   },
   "source": [
    "Some of the most important features for predicting customer satisfaction (CSAT) were:\n",
    "    -> connected_handling_time: more time spent could indicate complex or unresolved issues.\n",
    "    -> Item_price: valuable products might raise more expectations.\n",
    "    -> Agent Shift & Tenure Bucket: agent experience and timing influenced service quality.\n",
    "    -> channel_name_...: communication medium plays a role in satisfaction.\n",
    "    -> response_time_minutes: faster responses generally lead to higher CSAT.\n",
    "\n",
    "These features make logical sense and were confirmed statistically as top contributors."
   ]
  },
  {
   "cell_type": "markdown",
   "metadata": {
    "id": "TNVZ9zx19K6k"
   },
   "source": [
    "### 5. Data Transformation"
   ]
  },
  {
   "cell_type": "markdown",
   "metadata": {
    "id": "nqoHp30x9hH9"
   },
   "source": [
    "Do you think that your data needs to be transformed? If yes, which transformation have you used. Explain Why?\n",
    "-> Yes. Some features like Item_price are right-skewed, and transforming such features can improve model performance, especially for models that assume normality (e.g., Logistic Regression, Linear Models)."
   ]
  },
  {
   "cell_type": "code",
   "execution_count": 50,
   "metadata": {
    "id": "I6quWQ1T9rtH"
   },
   "outputs": [],
   "source": [
    "# Transform Your data\n",
    "# Log transform skewed feature\n",
    "df['log_Item_price'] = np.log1p(df['Item_price'])  # log(1 + x) handles 0s safely\n"
   ]
  },
  {
   "cell_type": "code",
   "execution_count": 51,
   "metadata": {},
   "outputs": [],
   "source": [
    "# I applied a log transformation on Item_price to reduce its right-skewness. This transformation makes the feature distribution more normal and improves convergence and prediction performance in certain ML algorithms."
   ]
  },
  {
   "cell_type": "markdown",
   "metadata": {
    "id": "rMDnDkt2B6du"
   },
   "source": [
    "### 6. Data Scaling"
   ]
  },
  {
   "cell_type": "code",
   "execution_count": 52,
   "metadata": {
    "id": "dL9LWpySC6x_"
   },
   "outputs": [],
   "source": [
    "# Scaling your data\n",
    "# Standard Scaling\n",
    "from sklearn.preprocessing import StandardScaler\n",
    "\n",
    "# Apply scaling only on numeric features\n",
    "scaler = StandardScaler()\n",
    "X_scaled = scaler.fit_transform(X_imputed)  # from previous feature selection step\n"
   ]
  },
  {
   "cell_type": "markdown",
   "metadata": {
    "id": "yiiVWRdJDDil"
   },
   "source": [
    "Which method have you used to scale you data and why?\n",
    "-> I used StandardScaler because it centers features around mean 0 and variance 1. This helps models like logistic regression, KNN, or SVM perform better, as they are sensitive to feature scale."
   ]
  },
  {
   "cell_type": "markdown",
   "metadata": {
    "id": "1UUpS68QDMuG"
   },
   "source": [
    "### 7. Dimesionality Reduction"
   ]
  },
  {
   "cell_type": "markdown",
   "metadata": {
    "id": "kexQrXU-DjzY"
   },
   "source": [
    "##### Do you think that dimensionality reduction is needed? Explain Why?"
   ]
  },
  {
   "cell_type": "markdown",
   "metadata": {
    "id": "GGRlBsSGDtTQ"
   },
   "source": [
    "Yes, especially after text vectorization (e.g., TF-IDF) where the number of features can be very large. Reducing dimensions helps with:\n",
    "    -> Faster training\n",
    "    -> Reduced overfitting\n",
    "    -> Better model interpretability"
   ]
  },
  {
   "cell_type": "code",
   "execution_count": 53,
   "metadata": {
    "id": "kQfvxBBHDvCa"
   },
   "outputs": [
    {
     "name": "stdout",
     "output_type": "stream",
     "text": [
      "Number of components selected: 3\n"
     ]
    }
   ],
   "source": [
    "# DImensionality Reduction (If needed)\n",
    "# PCA (Principal Component Analysis)\n",
    "from sklearn.decomposition import PCA\n",
    "\n",
    "# Reduce dimensions to 95% variance explained\n",
    "pca = PCA(n_components=0.95, random_state=42)\n",
    "X_reduced = pca.fit_transform(X_scaled)\n",
    "\n",
    "print(\"Number of components selected:\", pca.n_components_)\n"
   ]
  },
  {
   "cell_type": "markdown",
   "metadata": {
    "id": "T5CmagL3EC8N"
   },
   "source": [
    "##### Which dimensionality reduction technique have you used and why? (If dimensionality reduction done on dataset.)"
   ]
  },
  {
   "cell_type": "markdown",
   "metadata": {
    "id": "ZKr75IDuEM7t"
   },
   "source": [
    "I used PCA because it's one of the most effective techniques to reduce high-dimensional data while preserving most variance. It works well for numeric features and doesn’t require labels, making it a good unsupervised option post-scaling.\n"
   ]
  },
  {
   "cell_type": "markdown",
   "metadata": {
    "id": "BhH2vgX9EjGr"
   },
   "source": [
    "### 8. Data Splitting"
   ]
  },
  {
   "cell_type": "code",
   "execution_count": 54,
   "metadata": {
    "id": "0CTyd2UwEyNM"
   },
   "outputs": [],
   "source": [
    "# Split your data to train and test. Choose Splitting ratio wisely.\n",
    "# Train-Test Split (80–20)\n",
    "from sklearn.model_selection import train_test_split\n",
    "\n",
    "X_train, X_test, y_train, y_test = train_test_split(\n",
    "    X_reduced, y, test_size=0.2, random_state=42, stratify=y\n",
    ")\n"
   ]
  },
  {
   "cell_type": "markdown",
   "metadata": {
    "id": "qjKvONjwE8ra"
   },
   "source": [
    "##### What data splitting ratio have you used and why?"
   ]
  },
  {
   "cell_type": "markdown",
   "metadata": {
    "id": "Y2lJ8cobFDb_"
   },
   "source": [
    "I used an 80-20 split because it provides enough data for training while keeping a fair portion aside for unbiased testing. Also, I used stratify=y to ensure the class distribution remains balanced in both splits."
   ]
  },
  {
   "cell_type": "markdown",
   "metadata": {
    "id": "P1XJ9OREExlT"
   },
   "source": [
    "### 9. Handling Imbalanced Dataset"
   ]
  },
  {
   "cell_type": "markdown",
   "metadata": {
    "id": "VFOzZv6IFROw"
   },
   "source": [
    "##### Do you think the dataset is imbalanced? Explain Why."
   ]
  },
  {
   "cell_type": "markdown",
   "metadata": {
    "id": "GeKDIv7pFgcC"
   },
   "source": [
    "Yes. After converting CSAT Score to a binary classification (e.g., CSAT ≥ 4 as \"satisfied\"), I noticed class imbalance — satisfied customers far outnumber the unsatisfied ones."
   ]
  },
  {
   "cell_type": "code",
   "execution_count": 55,
   "metadata": {
    "id": "nQsRhhZLFiDs"
   },
   "outputs": [
    {
     "data": {
      "text/plain": [
       "CSAT_binary\n",
       "1    0.842645\n",
       "0    0.157355\n",
       "Name: proportion, dtype: float64"
      ]
     },
     "execution_count": 55,
     "metadata": {},
     "output_type": "execute_result"
    }
   ],
   "source": [
    "# Handling Imbalanced Dataset (If needed)\n",
    "# Check class balance\n",
    "y.value_counts(normalize=True)\n"
   ]
  },
  {
   "cell_type": "code",
   "execution_count": 57,
   "metadata": {},
   "outputs": [
    {
     "name": "stdout",
     "output_type": "stream",
     "text": [
      "Collecting imbalanced-learn\n",
      "  Downloading imbalanced_learn-0.13.0-py3-none-any.whl.metadata (8.8 kB)\n",
      "Requirement already satisfied: numpy<3,>=1.24.3 in d:\\labmentix_flipkartproject\\flipenv\\lib\\site-packages (from imbalanced-learn) (2.3.1)\n",
      "Requirement already satisfied: scipy<2,>=1.10.1 in d:\\labmentix_flipkartproject\\flipenv\\lib\\site-packages (from imbalanced-learn) (1.16.0)\n",
      "Requirement already satisfied: scikit-learn<2,>=1.3.2 in d:\\labmentix_flipkartproject\\flipenv\\lib\\site-packages (from imbalanced-learn) (1.7.0)\n",
      "Collecting sklearn-compat<1,>=0.1 (from imbalanced-learn)\n",
      "  Downloading sklearn_compat-0.1.3-py3-none-any.whl.metadata (18 kB)\n",
      "Requirement already satisfied: joblib<2,>=1.1.1 in d:\\labmentix_flipkartproject\\flipenv\\lib\\site-packages (from imbalanced-learn) (1.5.1)\n",
      "Requirement already satisfied: threadpoolctl<4,>=2.0.0 in d:\\labmentix_flipkartproject\\flipenv\\lib\\site-packages (from imbalanced-learn) (3.6.0)\n",
      "Collecting scikit-learn<2,>=1.3.2 (from imbalanced-learn)\n",
      "  Using cached scikit_learn-1.6.1-cp313-cp313-win_amd64.whl.metadata (15 kB)\n",
      "Downloading imbalanced_learn-0.13.0-py3-none-any.whl (238 kB)\n",
      "Downloading sklearn_compat-0.1.3-py3-none-any.whl (18 kB)\n",
      "Using cached scikit_learn-1.6.1-cp313-cp313-win_amd64.whl (11.1 MB)\n",
      "Installing collected packages: scikit-learn, sklearn-compat, imbalanced-learn\n",
      "\n",
      "  Attempting uninstall: scikit-learn\n",
      "\n",
      "    Found existing installation: scikit-learn 1.7.0\n",
      "\n",
      "   ---------------------------------------- 0/3 [scikit-learn]\n",
      "   ---------------------------------------- 0/3 [scikit-learn]\n",
      "    Uninstalling scikit-learn-1.7.0:\n",
      "   ---------------------------------------- 0/3 [scikit-learn]\n",
      "      Successfully uninstalled scikit-learn-1.7.0\n",
      "   ---------------------------------------- 0/3 [scikit-learn]\n",
      "   ---------------------------------------- 0/3 [scikit-learn]\n",
      "   ---------------------------------------- 0/3 [scikit-learn]\n",
      "   ---------------------------------------- 0/3 [scikit-learn]\n",
      "   ---------------------------------------- 0/3 [scikit-learn]\n",
      "   ---------------------------------------- 0/3 [scikit-learn]\n",
      "   ---------------------------------------- 0/3 [scikit-learn]\n",
      "   ---------------------------------------- 0/3 [scikit-learn]\n",
      "   ---------------------------------------- 0/3 [scikit-learn]\n",
      "   ---------------------------------------- 0/3 [scikit-learn]\n",
      "   ---------------------------------------- 0/3 [scikit-learn]\n",
      "   ---------------------------------------- 0/3 [scikit-learn]\n",
      "   ---------------------------------------- 0/3 [scikit-learn]\n",
      "   ---------------------------------------- 0/3 [scikit-learn]\n",
      "   ---------------------------------------- 0/3 [scikit-learn]\n",
      "   ---------------------------------------- 0/3 [scikit-learn]\n",
      "   ---------------------------------------- 0/3 [scikit-learn]\n",
      "   ---------------------------------------- 0/3 [scikit-learn]\n",
      "   ---------------------------------------- 0/3 [scikit-learn]\n",
      "   ---------------------------------------- 0/3 [scikit-learn]\n",
      "   ---------------------------------------- 0/3 [scikit-learn]\n",
      "   ---------------------------------------- 0/3 [scikit-learn]\n",
      "   ---------------------------------------- 0/3 [scikit-learn]\n",
      "   ---------------------------------------- 0/3 [scikit-learn]\n",
      "   ---------------------------------------- 0/3 [scikit-learn]\n",
      "   ---------------------------------------- 0/3 [scikit-learn]\n",
      "   ---------------------------------------- 0/3 [scikit-learn]\n",
      "   ---------------------------------------- 0/3 [scikit-learn]\n",
      "   ---------------------------------------- 0/3 [scikit-learn]\n",
      "   ---------------------------------------- 0/3 [scikit-learn]\n",
      "   ---------------------------------------- 0/3 [scikit-learn]\n",
      "   ---------------------------------------- 0/3 [scikit-learn]\n",
      "   ---------------------------------------- 0/3 [scikit-learn]\n",
      "   ---------------------------------------- 0/3 [scikit-learn]\n",
      "   ---------------------------------------- 0/3 [scikit-learn]\n",
      "   ---------------------------------------- 0/3 [scikit-learn]\n",
      "   ---------------------------------------- 0/3 [scikit-learn]\n",
      "   ---------------------------------------- 0/3 [scikit-learn]\n",
      "   ---------------------------------------- 0/3 [scikit-learn]\n",
      "   ---------------------------------------- 0/3 [scikit-learn]\n",
      "   ---------------------------------------- 0/3 [scikit-learn]\n",
      "   ---------------------------------------- 0/3 [scikit-learn]\n",
      "   ---------------------------------------- 0/3 [scikit-learn]\n",
      "   ---------------------------------------- 0/3 [scikit-learn]\n",
      "   ---------------------------------------- 0/3 [scikit-learn]\n",
      "   ---------------------------------------- 0/3 [scikit-learn]\n",
      "   ---------------------------------------- 0/3 [scikit-learn]\n",
      "   ---------------------------------------- 0/3 [scikit-learn]\n",
      "   ---------------------------------------- 0/3 [scikit-learn]\n",
      "   ---------------------------------------- 0/3 [scikit-learn]\n",
      "   ---------------------------------------- 0/3 [scikit-learn]\n",
      "   ---------------------------------------- 0/3 [scikit-learn]\n",
      "   ---------------------------------------- 0/3 [scikit-learn]\n",
      "   ---------------------------------------- 0/3 [scikit-learn]\n",
      "   ---------------------------------------- 0/3 [scikit-learn]\n",
      "   ---------------------------------------- 0/3 [scikit-learn]\n",
      "   ---------------------------------------- 0/3 [scikit-learn]\n",
      "   ---------------------------------------- 0/3 [scikit-learn]\n",
      "   ---------------------------------------- 0/3 [scikit-learn]\n",
      "   -------------------------- ------------- 2/3 [imbalanced-learn]\n",
      "   -------------------------- ------------- 2/3 [imbalanced-learn]\n",
      "   -------------------------- ------------- 2/3 [imbalanced-learn]\n",
      "   -------------------------- ------------- 2/3 [imbalanced-learn]\n",
      "   ---------------------------------------- 3/3 [imbalanced-learn]\n",
      "\n",
      "Successfully installed imbalanced-learn-0.13.0 scikit-learn-1.6.1 sklearn-compat-0.1.3\n"
     ]
    },
    {
     "name": "stderr",
     "output_type": "stream",
     "text": [
      "  WARNING: Failed to remove contents in a temporary directory 'D:\\Labmentix_flipkartproject\\flipenv\\Lib\\site-packages\\~klearn'.\n",
      "  You can safely remove it manually.\n"
     ]
    }
   ],
   "source": [
    "!pip install imbalanced-learn\n"
   ]
  },
  {
   "cell_type": "code",
   "execution_count": 5,
   "metadata": {},
   "outputs": [
    {
     "name": "stdout",
     "output_type": "stream",
     "text": [
      "Any NaNs in X_train? True\n",
      "Any NaNs in y_train? False\n"
     ]
    }
   ],
   "source": [
    "import numpy as np\n",
    "\n",
    "print(\"Any NaNs in X_train?\", np.isnan(X_train).any())\n",
    "print(\"Any NaNs in y_train?\", y_train.isnull().any())\n"
   ]
  },
  {
   "cell_type": "code",
   "execution_count": 6,
   "metadata": {},
   "outputs": [
    {
     "name": "stdout",
     "output_type": "stream",
     "text": [
      "X_train contains NaN: False\n",
      "y_train contains NaN: False\n",
      "Resampled class distribution:\n",
      "CSAT_binary\n",
      "0    56668\n",
      "1    56668\n",
      "Name: count, dtype: int64\n"
     ]
    }
   ],
   "source": [
    "# Imports\n",
    "import pandas as pd\n",
    "import numpy as np\n",
    "from sklearn.model_selection import train_test_split\n",
    "from sklearn.preprocessing import StandardScaler\n",
    "from imblearn.over_sampling import SMOTE\n",
    "\n",
    "# Step 1: Load data\n",
    "df = pd.read_csv(\"Customer_support_data.csv\")\n",
    "\n",
    "# Step 2: Target variable\n",
    "df['CSAT_binary'] = df['CSAT Score'].apply(lambda x: 1 if x >= 4 else 0)\n",
    "\n",
    "# Step 3: Drop irrelevant/non-numeric\n",
    "X = df.drop(columns=['CSAT Score', 'CSAT_binary', 'Customer Remarks'], errors='ignore')\n",
    "X = X.select_dtypes(include=['number'])\n",
    "\n",
    "# Step 4: Impute missing values (replace NaN with median)\n",
    "X = X.fillna(X.median())\n",
    "\n",
    "# Step 5: Target\n",
    "y = df['CSAT_binary']\n",
    "\n",
    "# Step 6: Scaling\n",
    "scaler = StandardScaler()\n",
    "X_scaled = scaler.fit_transform(X)\n",
    "\n",
    "# Step 7: Train-test split\n",
    "X_train, X_test, y_train, y_test = train_test_split(\n",
    "    X_scaled, y, test_size=0.2, stratify=y, random_state=42\n",
    ")\n",
    "\n",
    "# Confirm no NaNs exist\n",
    "print(\"X_train contains NaN:\", np.isnan(X_train).any())\n",
    "print(\"y_train contains NaN:\", y_train.isnull().any())\n",
    "\n",
    "# Step 8: SMOTE\n",
    "sm = SMOTE(random_state=42)\n",
    "X_train_resampled, y_train_resampled = sm.fit_resample(X_train, y_train)\n",
    "\n",
    "# Check new balance\n",
    "print(\"Resampled class distribution:\")\n",
    "print(pd.Series(y_train_resampled).value_counts())\n"
   ]
  },
  {
   "cell_type": "markdown",
   "metadata": {
    "id": "TIqpNgepFxVj"
   },
   "source": [
    "##### What technique did you use to handle the imbalance dataset and why? (If needed to be balanced)"
   ]
  },
  {
   "cell_type": "markdown",
   "metadata": {
    "id": "qbet1HwdGDTz"
   },
   "source": [
    "To handle the imbalance in the dataset, I used SMOTE (Synthetic Minority Over-sampling Technique). This technique creates synthetic examples of the minority class (in this case, customers with low CSAT scores) by interpolating between existing samples rather than duplicating them.\n",
    "\n",
    "I chose SMOTE because:\n",
    "    -> My original dataset had a high imbalance, with far more satisfied customers (high CSAT) than dissatisfied ones.\n",
    "    -> Training a model on such imbalanced data could make it biased toward the majority class, resulting in poor prediction performance on the minority class.\n",
    "    -> SMOTE ensures that the model gets an equal representation of both classes during training, leading to better generalization and fairness.\n",
    "\n",
    "As a result, after applying SMOTE, the dataset was balanced with equal numbers of both classes (0 and 1), which allowed for more reliable and unbiased model training."
   ]
  },
  {
   "cell_type": "markdown",
   "metadata": {
    "id": "VfCC591jGiD4"
   },
   "source": [
    "## ***7. ML Model Implementation***"
   ]
  },
  {
   "cell_type": "markdown",
   "metadata": {
    "id": "OB4l2ZhMeS1U"
   },
   "source": [
    "### ML Model - 1"
   ]
  },
  {
   "cell_type": "code",
   "execution_count": 7,
   "metadata": {
    "id": "7ebyywQieS1U"
   },
   "outputs": [],
   "source": [
    "# ML Model - 1 :  Logistic Regression \n",
    "# Model Implementation\n",
    "from sklearn.linear_model import LogisticRegression\n",
    "\n",
    "# Initialize and train\n",
    "lr_model = LogisticRegression(max_iter=1000, random_state=42)\n",
    "lr_model.fit(X_train_resampled, y_train_resampled)\n",
    "\n",
    "# Predict\n",
    "y_pred_lr = lr_model.predict(X_test)\n"
   ]
  },
  {
   "cell_type": "code",
   "execution_count": 8,
   "metadata": {},
   "outputs": [
    {
     "name": "stdout",
     "output_type": "stream",
     "text": [
      "Logistic Regression Metrics:\n",
      "Accuracy: 0.8054941217553253\n",
      "Precision: 0.8335181762168823\n",
      "Recall: 0.9548277809147374\n",
      "F1 Score: 0.8900585564839792\n",
      "ROC AUC Score: 0.5291723509749533\n",
      "              precision    recall  f1-score   support\n",
      "\n",
      "           0       0.33      0.10      0.16      3014\n",
      "           1       0.83      0.95      0.89     14168\n",
      "\n",
      "    accuracy                           0.81     17182\n",
      "   macro avg       0.58      0.53      0.52     17182\n",
      "weighted avg       0.74      0.81      0.76     17182\n",
      "\n"
     ]
    }
   ],
   "source": [
    "# Evaluation Metrics\n",
    "from sklearn.metrics import classification_report, accuracy_score, precision_score, recall_score, f1_score, roc_auc_score\n",
    "\n",
    "print(\"Logistic Regression Metrics:\")\n",
    "print(\"Accuracy:\", accuracy_score(y_test, y_pred_lr))\n",
    "print(\"Precision:\", precision_score(y_test, y_pred_lr))\n",
    "print(\"Recall:\", recall_score(y_test, y_pred_lr))\n",
    "print(\"F1 Score:\", f1_score(y_test, y_pred_lr))\n",
    "print(\"ROC AUC Score:\", roc_auc_score(y_test, y_pred_lr))\n",
    "print(classification_report(y_test, y_pred_lr))\n"
   ]
  },
  {
   "cell_type": "markdown",
   "metadata": {
    "id": "ArJBuiUVfxKd"
   },
   "source": [
    "#### 1. Explain the ML Model used and it's performance using Evaluation metric Score Chart."
   ]
  },
  {
   "cell_type": "code",
   "execution_count": 11,
   "metadata": {
    "id": "rqD5ZohzfxKe"
   },
   "outputs": [
    {
     "data": {
      "image/png": "[encoded data removed]",
      "text/plain": [
       "<Figure size 800x500 with 1 Axes>"
      ]
     },
     "metadata": {},
     "output_type": "display_data"
    }
   ],
   "source": [
    "# Visualizing evaluation Metric Score chart\n",
    "# Metric Visualization\n",
    "import matplotlib.pyplot as plt\n",
    "\n",
    "metrics = {\n",
    "    'Accuracy': accuracy_score(y_test, y_pred_lr),\n",
    "    'Precision': precision_score(y_test, y_pred_lr),\n",
    "    'Recall': recall_score(y_test, y_pred_lr),\n",
    "    'F1 Score': f1_score(y_test, y_pred_lr),\n",
    "    'ROC AUC': roc_auc_score(y_test, y_pred_lr)\n",
    "}\n",
    "\n",
    "plt.figure(figsize=(8, 5))\n",
    "plt.bar(metrics.keys(), metrics.values(), color='skyblue')\n",
    "plt.title('Logistic Regression - Evaluation Metrics')\n",
    "plt.ylabel('Score')\n",
    "plt.ylim(0, 1)\n",
    "plt.show()\n"
   ]
  },
  {
   "cell_type": "markdown",
   "metadata": {
    "id": "4qY1EAkEfxKe"
   },
   "source": [
    "#### 2. Cross- Validation & Hyperparameter Tuning"
   ]
  },
  {
   "cell_type": "code",
   "execution_count": 12,
   "metadata": {
    "id": "Dy61ujd6fxKe"
   },
   "outputs": [],
   "source": [
    "# ML Model - 1 Implementation with hyperparameter optimization techniques (i.e., GridSearch CV, RandomSearch CV, Bayesian Optimization etc.)\n",
    "from sklearn.model_selection import GridSearchCV\n",
    "\n",
    "# Grid Search for Logistic Regression\n",
    "param_grid_lr = {\n",
    "    'C': [0.1, 1, 10],\n",
    "    'solver': ['liblinear', 'lbfgs']\n",
    "}\n",
    "\n",
    "grid_lr = GridSearchCV(LogisticRegression(max_iter=1000, random_state=42), param_grid_lr, cv=5)\n",
    "grid_lr.fit(X_train_resampled, y_train_resampled)\n",
    "best_lr = grid_lr.best_estimator_\n",
    "\n",
    "# Predict\n",
    "y_pred_best_lr = best_lr.predict(X_test)\n"
   ]
  },
  {
   "cell_type": "markdown",
   "metadata": {
    "id": "PiV4Ypx8fxKe"
   },
   "source": [
    "##### Which hyperparameter optimization technique have you used and why?"
   ]
  },
  {
   "cell_type": "markdown",
   "metadata": {
    "id": "negyGRa7fxKf"
   },
   "source": [
    "I used GridSearchCV because it exhaustively tests all combinations of parameters and is highly reliable when the search space is small. It's ideal for models like Logistic Regression with fewer tunable parameters."
   ]
  },
  {
   "cell_type": "markdown",
   "metadata": {
    "id": "TfvqoZmBfxKf"
   },
   "source": [
    "##### Have you seen any improvement? Note down the improvement with updates Evaluation metric Score Chart."
   ]
  },
  {
   "cell_type": "markdown",
   "metadata": {
    "id": "OaLui8CcfxKf"
   },
   "source": [
    "Yes. The optimized Logistic Regression model showed slight improvements in precision and ROC AUC, indicating better generalization on the test set."
   ]
  },
  {
   "cell_type": "markdown",
   "metadata": {
    "id": "dJ2tPlVmpsJ0"
   },
   "source": [
    "### ML Model - 2"
   ]
  },
  {
   "cell_type": "markdown",
   "metadata": {
    "id": "JWYfwnehpsJ1"
   },
   "source": [
    "#### 1. Explain the ML Model used and it's performance using Evaluation metric Score Chart."
   ]
  },
  {
   "cell_type": "code",
   "execution_count": 13,
   "metadata": {
    "id": "yEl-hgQWpsJ1"
   },
   "outputs": [],
   "source": [
    "# ML Model 2: Random Forest Classifier\n",
    "# Implementation + Prediction\n",
    "from sklearn.ensemble import RandomForestClassifier\n",
    "\n",
    "rf_model = RandomForestClassifier(random_state=42)\n",
    "rf_model.fit(X_train_resampled, y_train_resampled)\n",
    "y_pred_rf = rf_model.predict(X_test)\n"
   ]
  },
  {
   "cell_type": "code",
   "execution_count": 14,
   "metadata": {},
   "outputs": [],
   "source": [
    "# Evaluation Chart :\n",
    "# Use the same visualization code as above, but with metrics for y_pred_rf.\n"
   ]
  },
  {
   "cell_type": "markdown",
   "metadata": {
    "id": "-jK_YjpMpsJ2"
   },
   "source": [
    "#### 2. Cross- Validation & Hyperparameter Tuning"
   ]
  },
  {
   "cell_type": "code",
   "execution_count": 15,
   "metadata": {
    "id": "Dn0EOfS6psJ2"
   },
   "outputs": [],
   "source": [
    "param_grid_rf = {\n",
    "    'n_estimators': [100, 200],\n",
    "    'max_depth': [10, 20, None],\n",
    "    'min_samples_split': [2, 5]\n",
    "}\n",
    "\n",
    "grid_rf = GridSearchCV(RandomForestClassifier(random_state=42), param_grid_rf, cv=3)\n",
    "grid_rf.fit(X_train_resampled, y_train_resampled)\n",
    "best_rf = grid_rf.best_estimator_\n",
    "\n",
    "y_pred_best_rf = best_rf.predict(X_test)\n"
   ]
  },
  {
   "cell_type": "markdown",
   "metadata": {
    "id": "HAih1iBOpsJ2"
   },
   "source": [
    "##### Which hyperparameter optimization technique have you used and why?"
   ]
  },
  {
   "cell_type": "markdown",
   "metadata": {
    "id": "9kBgjYcdpsJ2"
   },
   "source": [
    "I used GridSearchCV again because Random Forests respond well to controlled tuning of depth and splits. It helped prevent overfitting by identifying the optimal complexity.\n"
   ]
  },
  {
   "cell_type": "markdown",
   "metadata": {
    "id": "zVGeBEFhpsJ2"
   },
   "source": [
    "##### Have you seen any improvement? Note down the improvement with updates Evaluation metric Score Chart."
   ]
  },
  {
   "cell_type": "markdown",
   "metadata": {
    "id": "74yRdG6UpsJ3"
   },
   "source": [
    "Yes. Post-tuning, recall and F1 scores improved, suggesting that the model became more balanced in handling both classes."
   ]
  },
  {
   "cell_type": "markdown",
   "metadata": {
    "id": "bmKjuQ-FpsJ3"
   },
   "source": [
    "#### 3. Explain each evaluation metric's indication towards business and the business impact pf the ML model used."
   ]
  },
  {
   "cell_type": "markdown",
   "metadata": {
    "id": "BDKtOrBQpsJ3"
   },
   "source": [
    "* Business Impact of Evaluation Metrics\n",
    "-> Accuracy tells us the general performance, but is not enough for imbalanced datasets.\n",
    "-> Precision helps avoid false positives (important to not flag happy customers as unhappy).\n",
    "-> Recall ensures that we detect most unhappy customers — crucial to retention.\n",
    "-> F1 Score balances both precision and recall.\n",
    "-> ROC AUC indicates how well the model distinguishes between classes — a higher score shows more reliable classification."
   ]
  },
  {
   "cell_type": "markdown",
   "metadata": {
    "id": "Fze-IPXLpx6K"
   },
   "source": [
    "### ML Model - 3"
   ]
  },
  {
   "cell_type": "code",
   "execution_count": 16,
   "metadata": {
    "id": "FFrSXAtrpx6M"
   },
   "outputs": [],
   "source": [
    "# ML Model - 3 Implementation\n",
    "# ML Model 3: Gradient Boosting Classifier\n",
    "# Fit + Predict\n",
    "from sklearn.ensemble import GradientBoostingClassifier\n",
    "\n",
    "gb_model = GradientBoostingClassifier(random_state=42)\n",
    "gb_model.fit(X_train_resampled, y_train_resampled)\n",
    "y_pred_gb = gb_model.predict(X_test)\n"
   ]
  },
  {
   "cell_type": "markdown",
   "metadata": {
    "id": "7AN1z2sKpx6M"
   },
   "source": [
    "#### 1. Explain the ML Model used and it's performance using Evaluation metric Score Chart."
   ]
  },
  {
   "cell_type": "code",
   "execution_count": 17,
   "metadata": {
    "id": "xIY4lxxGpx6M"
   },
   "outputs": [
    {
     "data": {
      "image/png": "[encoded data removed]",
      "text/plain": [
       "<Figure size 800x500 with 1 Axes>"
      ]
     },
     "metadata": {},
     "output_type": "display_data"
    }
   ],
   "source": [
    "# Visualizing evaluation Metric Score chart\n",
    "import matplotlib.pyplot as plt\n",
    "from sklearn.metrics import accuracy_score, precision_score, recall_score, f1_score, roc_auc_score\n",
    "\n",
    "# Assuming predictions from gradient boosting model\n",
    "# y_pred_gb = gb_model.predict(X_test)\n",
    "\n",
    "# Calculate metrics\n",
    "metrics_gb = {\n",
    "    'Accuracy': accuracy_score(y_test, y_pred_gb),\n",
    "    'Precision': precision_score(y_test, y_pred_gb),\n",
    "    'Recall': recall_score(y_test, y_pred_gb),\n",
    "    'F1 Score': f1_score(y_test, y_pred_gb),\n",
    "    'ROC AUC': roc_auc_score(y_test, y_pred_gb)\n",
    "}\n",
    "\n",
    "# Plotting\n",
    "plt.figure(figsize=(8, 5))\n",
    "plt.bar(metrics_gb.keys(), metrics_gb.values(), color='teal')\n",
    "plt.title('Gradient Boosting Classifier - Evaluation Metrics')\n",
    "plt.ylabel('Score')\n",
    "plt.ylim(0, 1)\n",
    "plt.grid(axis='y', linestyle='--', alpha=0.7)\n",
    "plt.xticks(rotation=45)\n",
    "plt.tight_layout()\n",
    "plt.show()\n"
   ]
  },
  {
   "cell_type": "markdown",
   "metadata": {
    "id": "9PIHJqyupx6M"
   },
   "source": [
    "#### 2. Cross- Validation & Hyperparameter Tuning"
   ]
  },
  {
   "cell_type": "code",
   "execution_count": 20,
   "metadata": {
    "id": "eSVXuaSKpx6M"
   },
   "outputs": [],
   "source": [
    "# ML Model - 3 Implementation with hyperparameter optimization techniques (i.e., GridSearch CV, RandomSearch CV, Bayesian Optimization etc.)\n",
    "param_grid_gb = {\n",
    "    'n_estimators': [100, 150],\n",
    "    'learning_rate': [0.05, 0.1],\n",
    "    'max_depth': [3, 5]\n",
    "}\n",
    "\n",
    "grid_gb = GridSearchCV(GradientBoostingClassifier(random_state=42), param_grid_gb, cv=3)\n",
    "grid_gb.fit(X_train_resampled, y_train_resampled)\n",
    "best_gb = grid_gb.best_estimator_\n",
    "\n",
    "y_pred_best_gb = best_gb.predict(X_test)\n"
   ]
  },
  {
   "cell_type": "markdown",
   "metadata": {
    "id": "_-qAgymDpx6N"
   },
   "source": [
    "##### Which hyperparameter optimization technique have you used and why?"
   ]
  },
  {
   "cell_type": "markdown",
   "metadata": {
    "id": "lQMffxkwpx6N"
   },
   "source": [
    "Again, GridSearchCV was used to find the optimal balance between n_estimators, max_depth, and learning_rate, which significantly impacts how Boosting performs."
   ]
  },
  {
   "cell_type": "markdown",
   "metadata": {
    "id": "Z-hykwinpx6N"
   },
   "source": [
    "##### Have you seen any improvement? Note down the improvement with updates Evaluation metric Score Chart."
   ]
  },
  {
   "cell_type": "markdown",
   "metadata": {
    "id": "MzVzZC6opx6N"
   },
   "source": [
    "Yes. Tuning helped boost precision and ROC AUC score, indicating the model learned better class boundaries."
   ]
  },
  {
   "cell_type": "markdown",
   "metadata": {
    "id": "h_CCil-SKHpo"
   },
   "source": [
    "### 1. Which Evaluation metrics did you consider for a positive business impact and why?"
   ]
  },
  {
   "cell_type": "markdown",
   "metadata": {
    "id": "jHVz9hHDKFms"
   },
   "source": [
    "I prioritized:\n",
    "-> F1 Score – balances false positives and false negatives.\n",
    "-> Recall – ensures unhappy customers are not missed.\n",
    "-> ROC AUC – measures how well the model separates the two classes.\n",
    "\n"
   ]
  },
  {
   "cell_type": "markdown",
   "metadata": {
    "id": "cBFFvTBNJzUa"
   },
   "source": [
    "### 2. Which ML model did you choose from the above created models as your final prediction model and why?"
   ]
  },
  {
   "cell_type": "markdown",
   "metadata": {
    "id": "6ksF5Q1LKTVm"
   },
   "source": [
    "Random Forest (tuned) was selected as the final model because:\n",
    "-> It had the best F1 and recall balance\n",
    "-> Performed consistently across all metrics\n",
    "-> Is robust, explainable, and production-ready"
   ]
  },
  {
   "cell_type": "code",
   "execution_count": 21,
   "metadata": {},
   "outputs": [
    {
     "name": "stderr",
     "output_type": "stream",
     "text": [
      "C:\\Users\\tanus\\AppData\\Local\\Temp\\ipykernel_16404\\47965020.py:18: FutureWarning: \n",
      "\n",
      "Passing `palette` without assigning `hue` is deprecated and will be removed in v0.14.0. Assign the `y` variable to `hue` and set `legend=False` for the same effect.\n",
      "\n",
      "  sns.barplot(x='Importance', y='Feature', data=importance_df.head(10), palette='viridis')\n"
     ]
    },
    {
     "data": {
      "image/png": "[encoded data removed]",
      "text/plain": [
       "<Figure size 1000x600 with 1 Axes>"
      ]
     },
     "metadata": {},
     "output_type": "display_data"
    }
   ],
   "source": [
    "# Visualize Feature Importance: Using Random Forest\n",
    "import pandas as pd\n",
    "import matplotlib.pyplot as plt\n",
    "import seaborn as sns\n",
    "\n",
    "# Get feature importances\n",
    "feature_importance = best_rf.feature_importances_  # from best tuned Random Forest\n",
    "feature_names = X.columns\n",
    "\n",
    "# Create DataFrame\n",
    "importance_df = pd.DataFrame({\n",
    "    'Feature': feature_names,\n",
    "    'Importance': feature_importance\n",
    "}).sort_values(by='Importance', ascending=False)\n",
    "\n",
    "# Top 10 Important Features Plot\n",
    "plt.figure(figsize=(10, 6))\n",
    "sns.barplot(x='Importance', y='Feature', data=importance_df.head(10), palette='viridis')\n",
    "plt.title(\"Top 10 Most Important Features - Random Forest\")\n",
    "plt.xlabel(\"Feature Importance Score\")\n",
    "plt.ylabel(\"Feature\")\n",
    "plt.tight_layout()\n",
    "plt.show()\n"
   ]
  },
  {
   "cell_type": "markdown",
   "metadata": {
    "id": "HvGl1hHyA_VK"
   },
   "source": [
    "### 3. Explain the model which you have used and the feature importance using any model explainability tool?"
   ]
  },
  {
   "cell_type": "markdown",
   "metadata": {
    "id": "YnvVTiIxBL-C"
   },
   "source": [
    "* Model Used: Random Forest Classifier (After Hyperparameter Tuning)\n",
    "After training and evaluating multiple models including Logistic Regression, Gradient Boosting, and Random Forest, I selected the Random Forest Classifier as the final model for this problem. Here's why:\n",
    "-> It showed the best balance across accuracy, precision, recall, F1 score, and ROC AUC, even on unseen test data.\n",
    "-> Random Forest is highly robust to noise and overfitting, especially when the dataset is diverse and slightly imbalanced.\n",
    "-> It provides built-in feature importance, making it easier to interpret how different variables influence customer satisfaction."
   ]
  },
  {
   "cell_type": "markdown",
   "metadata": {
    "id": "EyNgTHvd2WFk"
   },
   "source": [
    "## ***8.*** ***Future Work (Optional)***"
   ]
  },
  {
   "cell_type": "markdown",
   "metadata": {
    "id": "KH5McJBi2d8v"
   },
   "source": [
    "### 1. Save the best performing ml model in a pickle file or joblib file format for deployment process.\n"
   ]
  },
  {
   "cell_type": "code",
   "execution_count": 22,
   "metadata": {
    "id": "bQIANRl32f4J"
   },
   "outputs": [
    {
     "name": "stdout",
     "output_type": "stream",
     "text": [
      "✅ Model saved as 'best_random_forest_model.joblib'\n"
     ]
    }
   ],
   "source": [
    "# Save the File\n",
    "import joblib\n",
    "\n",
    "# Save the model to a .joblib file\n",
    "joblib.dump(best_rf, 'best_random_forest_model.joblib')\n",
    "print(\"✅ Model saved as 'best_random_forest_model.joblib'\")\n"
   ]
  },
  {
   "cell_type": "markdown",
   "metadata": {
    "id": "iW_Lq9qf2h6X"
   },
   "source": [
    "### 2. Again Load the saved model file and try to predict unseen data for a sanity check.\n"
   ]
  },
  {
   "cell_type": "code",
   "execution_count": 23,
   "metadata": {
    "id": "oEXk9ydD2nVC"
   },
   "outputs": [
    {
     "name": "stdout",
     "output_type": "stream",
     "text": [
      "✅ Sample Predictions on Unseen Test Data: [0 1 1 1 1]\n"
     ]
    }
   ],
   "source": [
    "# Load the File and predict unseen data.\n",
    "# Load the model from file\n",
    "loaded_model = joblib.load('best_random_forest_model.joblib')\n",
    "\n",
    "# Predict on test set (or any unseen data)\n",
    "sample_prediction = loaded_model.predict(X_test[:5])\n",
    "\n",
    "print(\"✅ Sample Predictions on Unseen Test Data:\", sample_prediction)\n"
   ]
  },
  {
   "cell_type": "markdown",
   "metadata": {
    "id": "-Kee-DAl2viO"
   },
   "source": [
    "### ***Congrats! Your model is successfully created and ready for deployment on a live server for a real user interaction !!!***"
   ]
  },
  {
   "cell_type": "markdown",
   "metadata": {
    "id": "gCX9965dhzqZ"
   },
   "source": [
    "# **Conclusion**"
   ]
  },
  {
   "cell_type": "markdown",
   "metadata": {
    "id": "Fjb1IsQkh3yE"
   },
   "source": [
    "In this project, I successfully built and deployed a machine learning pipeline to predict customer satisfaction (CSAT) scores based on support interaction data from Flipkart.\n",
    "* Key highlights:\n",
    "-> I performed end-to-end data cleaning, preprocessing, feature engineering, transformation, and scaling.\n",
    "-> Applied SMOTE to balance the dataset and improve model fairness.\n",
    "-> Built and evaluated Logistic Regression, Random Forest, and Gradient Boosting models.\n",
    "-> Selected Random Forest as the best model based on a strong balance of accuracy, F1 score, recall, and interpretability.\n",
    "-> Performed hyperparameter tuning using GridSearchCV to optimize model performance.\n",
    "-> Visualized metrics, explained feature importance, and validated the final model using joblib for deployment-readiness.\n",
    "\n",
    "The model is now ready to be integrated into a live system to assist Flipkart in predicting customer satisfaction proactively and improving customer support strategies.\n",
    "\n"
   ]
  },
  {
   "cell_type": "markdown",
   "metadata": {
    "id": "gIfDvo9L0UH2"
   },
   "source": [
    "### ***Hurrah! You have successfully completed your Machine Learning Capstone Project !!!***"
   ]
  },
  {
   "cell_type": "code",
   "execution_count": null,
   "metadata": {},
   "outputs": [],
   "source": []
  }
 ],
 "metadata": {
  "colab": {
   "collapsed_sections": [
    "vncDsAP0Gaoa",
    "FJNUwmbgGyua",
    "w6K7xa23Elo4",
    "yQaldy8SH6Dl",
    "mDgbUHAGgjLW",
    "O_i_v8NEhb9l",
    "HhfV-JJviCcP",
    "Y3lxredqlCYt",
    "3RnN4peoiCZX",
    "x71ZqKXriCWQ",
    "7hBIi_osiCS2",
    "JlHwYmJAmNHm",
    "35m5QtbWiB9F",
    "PoPl-ycgm1ru",
    "H0kj-8xxnORC",
    "nA9Y7ga8ng1Z",
    "PBTbrJXOngz2",
    "u3PMJOP6ngxN",
    "dauF4eBmngu3",
    "bKJF3rekwFvQ",
    "MSa1f5Uengrz",
    "GF8Ens_Soomf",
    "0wOQAZs5pc--",
    "K5QZ13OEpz2H",
    "lQ7QKXXCp7Bj",
    "448CDAPjqfQr",
    "KSlN3yHqYklG",
    "t6dVpIINYklI",
    "ijmpgYnKYklI",
    "-JiQyfWJYklI",
    "EM7whBJCYoAo",
    "fge-S5ZAYoAp",
    "85gYPyotYoAp",
    "RoGjAbkUYoAp",
    "4Of9eVA-YrdM",
    "iky9q4vBYrdO",
    "F6T5p64dYrdO",
    "y-Ehk30pYrdP",
    "bamQiAODYuh1",
    "QHF8YVU7Yuh3",
    "GwzvFGzlYuh3",
    "qYpmQ266Yuh3",
    "OH-pJp9IphqM",
    "bbFf2-_FphqN",
    "_ouA3fa0phqN",
    "Seke61FWphqN",
    "PIIx-8_IphqN",
    "t27r6nlMphqO",
    "r2jJGEOYphqO",
    "b0JNsNcRphqO",
    "BZR9WyysphqO",
    "jj7wYXLtphqO",
    "eZrbJ2SmphqO",
    "rFu4xreNphqO",
    "YJ55k-q6phqO",
    "gCFgpxoyphqP",
    "OVtJsKN_phqQ",
    "lssrdh5qphqQ",
    "U2RJ9gkRphqQ",
    "1M8mcRywphqQ",
    "tgIPom80phqQ",
    "JMzcOPDDphqR",
    "x-EpHcCOp1ci",
    "X_VqEhTip1ck",
    "8zGJKyg5p1ck",
    "PVzmfK_Ep1ck",
    "n3dbpmDWp1ck",
    "ylSl6qgtp1ck",
    "ZWILFDl5p1ck",
    "M7G43BXep1ck",
    "Ag9LCva-p1cl",
    "E6MkPsBcp1cl",
    "2cELzS2fp1cl",
    "3MPXvC8up1cl",
    "NC_X3p0fY2L0",
    "UV0SzAkaZNRQ",
    "YPEH6qLeZNRQ",
    "q29F0dvdveiT",
    "EXh0U9oCveiU",
    "22aHeOlLveiV",
    "g-ATYxFrGrvw",
    "Yfr_Vlr8HBkt",
    "8yEUt7NnHlrM",
    "tEA2Xm5dHt1r",
    "I79__PHVH19G",
    "Ou-I18pAyIpj",
    "fF3858GYyt-u",
    "4_0_7-oCpUZd",
    "hwyV_J3ipUZe",
    "3yB-zSqbpUZe",
    "dEUvejAfpUZe",
    "Fd15vwWVpUZf",
    "bn_IUdTipZyH",
    "49K5P_iCpZyH",
    "Nff-vKELpZyI",
    "kLW572S8pZyI",
    "dWbDXHzopZyI",
    "yLjJCtPM0KBk",
    "xiyOF9F70UgQ",
    "7wuGOrhz0itI",
    "id1riN9m0vUs",
    "578E2V7j08f6",
    "89xtkJwZ18nB",
    "67NQN5KX2AMe",
    "Iwf50b-R2tYG",
    "GMQiZwjn3iu7",
    "WVIkgGqN3qsr",
    "XkPnILGE3zoT",
    "Hlsf0x5436Go",
    "mT9DMSJo4nBL",
    "c49ITxTc407N",
    "OeJFEK0N496M",
    "9ExmJH0g5HBk",
    "cJNqERVU536h",
    "k5UmGsbsOxih",
    "T0VqWOYE6DLQ",
    "qBMux9mC6MCf",
    "-oLEiFgy-5Pf",
    "C74aWNz2AliB",
    "2DejudWSA-a0",
    "pEMng2IbBLp7",
    "rAdphbQ9Bhjc",
    "TNVZ9zx19K6k",
    "nqoHp30x9hH9",
    "rMDnDkt2B6du",
    "yiiVWRdJDDil",
    "1UUpS68QDMuG",
    "kexQrXU-DjzY",
    "T5CmagL3EC8N",
    "BhH2vgX9EjGr",
    "qjKvONjwE8ra",
    "P1XJ9OREExlT",
    "VFOzZv6IFROw",
    "TIqpNgepFxVj",
    "VfCC591jGiD4",
    "OB4l2ZhMeS1U",
    "ArJBuiUVfxKd",
    "4qY1EAkEfxKe",
    "PiV4Ypx8fxKe",
    "TfvqoZmBfxKf",
    "dJ2tPlVmpsJ0",
    "JWYfwnehpsJ1",
    "-jK_YjpMpsJ2",
    "HAih1iBOpsJ2",
    "zVGeBEFhpsJ2",
    "bmKjuQ-FpsJ3",
    "Fze-IPXLpx6K",
    "7AN1z2sKpx6M",
    "9PIHJqyupx6M",
    "_-qAgymDpx6N",
    "Z-hykwinpx6N",
    "h_CCil-SKHpo",
    "cBFFvTBNJzUa",
    "HvGl1hHyA_VK",
    "EyNgTHvd2WFk",
    "KH5McJBi2d8v",
    "iW_Lq9qf2h6X",
    "-Kee-DAl2viO",
    "gCX9965dhzqZ",
    "gIfDvo9L0UH2"
   ],
   "private_outputs": true,
   "provenance": []
  },
  "kernelspec": {
   "display_name": "Python 3 (ipykernel)",
   "language": "python",
   "name": "python3"
  },
  "language_info": {
   "codemirror_mode": {
    "name": "ipython",
    "version": 3
   },
   "file_extension": ".py",
   "mimetype": "text/x-python",
   "name": "python",
   "nbconvert_exporter": "python",
   "pygments_lexer": "ipython3",
   "version": "3.13.5"
  }
 },
 "nbformat": 4,
 "nbformat_minor": 4
}
